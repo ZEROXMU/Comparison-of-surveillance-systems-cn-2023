{
 "cells": [
  {
   "cell_type": "code",
   "execution_count": null,
   "id": "ec2e100d",
   "metadata": {
    "ExecuteTime": {
     "end_time": "2024-09-05T02:24:16.210844Z",
     "start_time": "2024-09-05T02:24:11.713731Z"
    }
   },
   "outputs": [],
   "source": [
    "import numpy as np\n",
    "import pandas as pd\n",
    "import matplotlib.pyplot as plt\n",
    "import seaborn as sns\n",
    "import warnings\n",
    "\n",
    "warnings.simplefilter(action='ignore', category=FutureWarning)\n",
    "\n",
    "\n",
    "import matplotlib.cm as cm\n",
    "\n",
    "cmaps = [cmap for cmap in cm.datad if not cmap.endswith(\"_r\")]\n",
    "print(cmaps)"
   ]
  },
  {
   "cell_type": "markdown",
   "id": "cfcec0c6",
   "metadata": {},
   "source": [
    "# 1.All data"
   ]
  },
  {
   "cell_type": "code",
   "execution_count": null,
   "id": "4693f95f",
   "metadata": {
    "ExecuteTime": {
     "end_time": "2024-09-05T02:24:16.949085Z",
     "start_time": "2024-09-05T02:24:16.911660Z"
    }
   },
   "outputs": [],
   "source": [
    "weekly_data = pd.read_csv(\"D:\\\\Research\\\\Project\\\\PROJECTS\\\\COVID-19\\\\污水\\\\weekly2.csv\",index_col = 0)\n",
    "weekly_data = weekly_data.fillna(0)"
   ]
  },
  {
   "cell_type": "code",
   "execution_count": null,
   "id": "3ceee96f",
   "metadata": {
    "ExecuteTime": {
     "end_time": "2024-09-05T02:24:19.204402Z",
     "start_time": "2024-09-05T02:24:19.195019Z"
    }
   },
   "outputs": [],
   "source": [
    "weekly_data = weekly_data.rename(columns={'DPS': 'DSP','社区阳性率': 'Communities_p+', '社区ORF': 'Communities_ORF','社区N': 'Communities_N',\n",
    "                                '污水处理厂阳性率': 'WWTPs_p+', '污水处理厂ORF': 'WWTPs_ORF','污水处理厂N': 'WWTPs_N',\n",
    "                               '飞机阳性率': 'Flights_p+', '飞机ORF': 'Flights_ORF','飞机N': 'Flights_N',\n",
    "                               '医院阳性率': 'Hospital_p+', '医院ORF': 'Hospital_ORF','医院N': 'Hospital_N',\n",
    "                               '酒店阳性率': 'Hotels_p+', '酒店ORF': 'Hotels_ORF','酒店N': 'Hotels_N'})"
   ]
  },
  {
   "cell_type": "code",
   "execution_count": null,
   "id": "cf7f10df",
   "metadata": {
    "ExecuteTime": {
     "end_time": "2024-06-04T13:21:17.235847Z",
     "start_time": "2024-06-04T13:21:11.140123Z"
    }
   },
   "outputs": [],
   "source": [
    "import datetime\n",
    "import matplotlib.dates as mdates\n",
    "import matplotlib.pyplot as plt\n",
    "\n",
    "plt.rc('font', family='Times New Roman')\n",
    "#plt.rcParams.update({'font.size': 50})\n",
    "plt.rcParams.update({'font.weight': 'bold'})\n",
    "#plt.style.use('classic')\n",
    "\n",
    "num_columns = weekly_data.shape[1]  # 获取列数\n",
    "num_rows = 5\n",
    "num_cols = min(6, num_columns)  # 动态设置子图的列数，最多为6\n",
    "\n",
    "fig, axes = plt.subplots(num_rows, num_cols, figsize=(40, 40), dpi=300)  # 创建包含指定行数和列数的子图的图形\n",
    "flatten_axes = axes.flatten()  # 将子图数组扁平化，以便通过索引访问每个子图\n",
    "\n",
    "for i, ax in enumerate(flatten_axes):\n",
    "    if i < num_columns:\n",
    "        column = weekly_data[weekly_data.columns[:num_columns]].columns[i]\n",
    "        color = '#FF9282' if i == 7 else '#8099FF' if i < 7 else '#7CC8C5'  # 设置颜色\n",
    "        ax.bar(weekly_data.index, weekly_data[column], label=column, width=0.95, color=color)\n",
    "        ax.set_title(column, fontdict={'fontsize': 35, 'fontweight': 'bold'})\n",
    "        ax.tick_params(axis='y', labelsize=30) \n",
    "        #ax.xaxis.set_major_locator(mdates.DayLocator(interval=10)) # 设置为每15天一个刻度\n",
    "        #ax.gcf().autofmt_xdate()\n",
    "        # 控制横坐标刻度\n",
    "        if i // num_cols == num_rows - 1:\n",
    "            ax.tick_params(axis='x', labelsize=30) \n",
    "            #ax.xaxis.set_ticklabels(rotation=45)\n",
    "            ax.xaxis.set_major_locator(mdates.DayLocator(interval=16))\n",
    "            # 设置 x 轴的日期格式为月份\n",
    "            #ax.xaxis.set_major_formatter(mdates.DateFormatter('%m-%d'))\n",
    "            ax.set_xlabel('Time', fontdict={'fontsize': 40, 'fontweight': 'bold'})\n",
    "        else:\n",
    "            ax.set_xticks([])  # 隐藏横坐标刻度\n",
    "\n",
    "\n",
    "        # 控制纵坐标刻度\n",
    "        if i % num_cols == 0:\n",
    "            ax.set_ylabel('Original values', fontdict={'fontsize':40, 'fontweight': 'bold'})\n",
    "        #else:\n",
    "            #ax.set_yticks([])  # 不隐藏纵坐标刻度\n",
    "\n",
    "plt.tight_layout()  # 调整子图之间的间距\n",
    "plt.savefig('D:\\\\Research\\\\Project\\\\PROJECTS\\\\COVID-19\\\\污水\\\\version_2\\\\原始数据时间序列图.pdf', dpi=300)\n",
    "plt.show()"
   ]
  },
  {
   "cell_type": "markdown",
   "id": "59b53912",
   "metadata": {},
   "source": [
    "# 2. Standardized data "
   ]
  },
  {
   "cell_type": "code",
   "execution_count": null,
   "id": "11915683",
   "metadata": {
    "ExecuteTime": {
     "end_time": "2024-09-05T02:24:32.907274Z",
     "start_time": "2024-09-05T02:24:32.534397Z"
    }
   },
   "outputs": [],
   "source": [
    "from sklearn.preprocessing import MinMaxScaler\n",
    "\n",
    "\n",
    "analyze_data = weekly_data.loc['2023/2/26':'2023/10/22']\n",
    "\n",
    "scaler = MinMaxScaler(feature_range=(0, 1))\n",
    "scaler.fit(analyze_data) \n",
    "std_df = scaler.transform(analyze_data)\n",
    "std_df  = pd.DataFrame(std_df, columns= analyze_data.columns)\n",
    "std_df .index = analyze_data.index\n",
    "std_df = std_df.drop(std_df.index[-1:])\n",
    "std_df= std_df.drop(std_df.columns[-3:], axis=1)\n",
    "std_df.head(2)"
   ]
  },
  {
   "cell_type": "code",
   "execution_count": null,
   "id": "c517f294",
   "metadata": {
    "ExecuteTime": {
     "end_time": "2024-09-05T02:24:32.919357Z",
     "start_time": "2024-09-05T02:24:32.909276Z"
    }
   },
   "outputs": [],
   "source": [
    "std_df = std_df.rename(columns={'社区阳性率': 'Communities_p+', '社区ORF': 'Communities_ORF','社区N': 'Communities_N',\n",
    "                                '污水处理厂阳性率': 'WWTPs_p+', '污水处理厂ORF': 'WWTPs_ORF','污水处理厂N': 'WWTPs_N',\n",
    "                               '飞机阳性率': 'Flights_p+', '飞机ORF': 'Flights_ORF','飞机N': 'Flights_N',\n",
    "                               '医院阳性率': 'Hospital_p+', '医院ORF': 'Hospital_ORF','医院N': 'Hospital_N',\n",
    "                               '酒店阳性率': 'Hotels_p+', '酒店ORF': 'Hotels_ORF','酒店N': 'Hotels_N'})"
   ]
  },
  {
   "cell_type": "code",
   "execution_count": null,
   "id": "2720ba9d",
   "metadata": {
    "ExecuteTime": {
     "end_time": "2024-09-03T13:06:24.472483Z",
     "start_time": "2024-09-03T13:06:15.831435Z"
    }
   },
   "outputs": [],
   "source": [
    "import datetime\n",
    "import matplotlib.dates as mdates\n",
    "import matplotlib.pyplot as plt\n",
    "\n",
    "plt.rc('font',family='Times New Roman')\n",
    "plt.rcParams.update({'font.weight': 'bold'})\n",
    "plt.rcParams.update({'font.size': 50})\n",
    "\n",
    "num_columns = std_df.shape[1] \n",
    "num_rows = 5\n",
    "num_cols = min(5, num_columns) \n",
    "\n",
    "fig, axes = plt.subplots(num_rows, num_cols, figsize=(60, 60), dpi=300)  # 创建包含指定行数和列数的子图的图形\n",
    "flatten_axes = axes.flatten()  \n",
    "\n",
    "for i, ax in enumerate(flatten_axes):\n",
    "    if i < num_columns:\n",
    "        column = std_df[weekly_data.columns[:num_columns]].columns[i]\n",
    "        color = '#FF9282' if i == 7 else '#8099FF' if i < 7 else '#7CC8C5'  # 设置颜色\n",
    "        ax.bar(std_df.index, std_df[column], label=column, width=0.95, color=color)\n",
    "        ax.set_ylim(0,1.05)\n",
    "        #title = f'({chr(ord(\"A\") + i)}) {column}' \n",
    "    \n",
    "        ax.set_title(column, fontdict={'fontsize': 70, 'fontweight': 'bold'})\n",
    "        \n",
    "    if i // num_cols == num_rows - 1:\n",
    "            ax.tick_params(axis='x', labelsize=60) \n",
    "            ax.set_ylim(-0.05,1.05)\n",
    "            ax.xaxis.set_major_locator(mdates.MonthLocator(interval = 1)) \n",
    "            \n",
    "            \n",
    "            \n",
    "            ax.set_xlabel('Time', fontdict={'fontsize':75, 'fontweight': 'bold'})\n",
    "    else:\n",
    "        ax.set_xticks([])  # 隐藏横坐标刻度\n",
    "\n",
    "\n",
    "        # 控制纵坐标刻度\n",
    "    if i % num_cols == 0:\n",
    "        ax.tick_params(axis='y', labelsize=60) \n",
    "        ax.set_ylabel('Standard data', fontdict={'fontsize':75, 'fontweight': 'bold'})\n",
    "    else:\n",
    "        ax.set_yticks([])  # 不隐藏纵坐标刻度\n",
    "        \n",
    "\n",
    "fig.subplots_adjust(wspace=0.3, hspace=0.2)  # 调整子图之间的间距\n",
    "plt.savefig('D:\\\\Research\\\\Project\\\\PROJECTS\\\\COVID-19\\\\污水\\\\manuscript_new\\\\manuscript\\\\Supplementary Material 2\\\\Fig S1.pdf', dpi=300)\n",
    "plt.show()"
   ]
  },
  {
   "cell_type": "markdown",
   "id": "8a072c11",
   "metadata": {},
   "source": [
    "# 3. Signal detection"
   ]
  },
  {
   "cell_type": "code",
   "execution_count": null,
   "id": "c0ed6280",
   "metadata": {
    "ExecuteTime": {
     "end_time": "2024-06-04T13:30:14.047909Z",
     "start_time": "2024-06-04T13:30:11.139502Z"
    }
   },
   "outputs": [],
   "source": [
    "from scipy.signal import find_peaks\n",
    "\n",
    "plt.rc('font',family='Times New Roman')\n",
    "plt.rcParams.update({'font.size': 60})\n",
    "plt.rcParams.update({'font.weight': 'bold'})\n",
    "\n",
    "\n",
    "\n",
    "result_df = pd.DataFrame()\n",
    "\n",
    "\n",
    "fig, axs = plt.subplots(len(std_df.columns), sharex=True, figsize=(50, 90))\n",
    "\n",
    "for i, column in enumerate(std_df.columns):\n",
    "    data = std_df[column]\n",
    "    peaks, _ = find_peaks(data)\n",
    "    valleys, _ = find_peaks(-data)\n",
    "    \n",
    "\n",
    "    result = [column, peaks, valleys]\n",
    "    \n",
    "\n",
    "    temp_df = pd.DataFrame([result], columns=['column', 'peaks', 'valleys'])\n",
    "    \n",
    "    \n",
    "    result_df = result_df.append(temp_df, ignore_index=True)\n",
    "\n",
    "    axs[i].plot(data, linewidth=6, color= '#CA94C6')\n",
    "    axs[i].fill_between(data.index, 0, data.values, alpha = 0.3,  color = '#CA94C6')\n",
    "    axs[i].scatter(peaks, data[peaks], c='#1A9E76', label='Peaks', s=2400, marker='*')\n",
    "    axs[i].scatter(valleys, data[valleys], c='#766FB3', label='Valleys',s= 2400)\n",
    "    #axs[i].set_ylabel('Value', )\n",
    "    title_color = '#FF9282' if i == 7 else '#8099FF' if i < 7 else '#7CC8C5'\n",
    "    title_font = {'fontsize':70, 'fontweight': 'bold','color': title_color}\n",
    "    axs[i].set_title(f'{column}', fontdict=title_font)\n",
    "    axs[i].set_ylim(-0.2,1.2)\n",
    "    axs[7].set_ylabel('Standard data', fontdict= {'fontsize':90, 'fontweight': 'bold'})\n",
    "plt.tight_layout()\n",
    "plt.xlabel('Time', fontdict={'fontsize':90, 'fontweight': 'bold'})\n",
    "\n",
    "\n",
    "plt.xlim(std_df.index[0], std_df.index[-1])\n",
    "\n",
    "plt.gca().xaxis.set_major_locator(mdates.DayLocator(interval=3))\n",
    "plt.savefig('D:\\\\Research\\\\Project\\\\PROJECTS\\\\COVID-19\\\\污水\\\\version_2\\\\峰谷（信号检测）.pdf', dpi=300)\n",
    "\n",
    "plt.show()"
   ]
  },
  {
   "cell_type": "code",
   "execution_count": null,
   "id": "085774ea",
   "metadata": {
    "ExecuteTime": {
     "end_time": "2024-06-04T13:30:26.219558Z",
     "start_time": "2024-06-04T13:30:26.005040Z"
    }
   },
   "outputs": [],
   "source": [
    "# 将数据转换为 DataFrame\n",
    "plt.rc('font',family='Times New Roman')\n",
    "plt.rcParams.update({'font.size': 15})\n",
    "plt.rcParams.update({'font.weight': 'bold'})\n",
    "\n",
    "data = result_df['peaks']\n",
    "df = pd.DataFrame(dict([(k, pd.Series(v)) for k, v in data.items()]))\n",
    "\n",
    "# 创建一个空的矩阵来表示热图\n",
    "heatmap_data = np.zeros((len(df.columns), 35))\n",
    "\n",
    "# 填充矩阵\n",
    "for i, col in enumerate(df.columns):\n",
    "    for val in df[col].dropna():\n",
    "        heatmap_data[i, int(val)] = 1\n",
    "\n",
    "# 创建一个 DataFrame 来表示热图数据\n",
    "heatmap_df = pd.DataFrame(heatmap_data, index=std_df.columns, columns=range(35))\n",
    "\n",
    "# 绘制热图\n",
    "plt.figure(figsize=(10, 6))\n",
    "sns.heatmap(heatmap_df, cmap='Reds', cbar=False, linewidths=.5, linecolor='black',alpha = 0.7)\n",
    "title_color = '#FF9282' if i == 7 else '#8099FF' if i < 7 else '#7CC8C5'\n",
    "# 设置x轴和y轴标签\n",
    "plt.xlabel('Weeks', fontdict= {'fontsize':20, 'fontweight': 'bold'})\n",
    "#plt.ylabel('Surveillance system', fontdict= {'fontsize':20, 'fontweight': 'bold'})\n",
    "\n",
    "# 设置x轴刻度\n",
    "plt.xticks(np.arange(0.5, 35.5, 1), range(35) )\n",
    "plt.yticks(np.arange(len(df.columns)) + 0.5,std_df.columns, rotation=0)\n",
    "# 获取当前的 y 轴刻度标签对象\n",
    "yticks = plt.gca().get_yticklabels()\n",
    "\n",
    "# 设置 y 轴刻度标签的颜色\n",
    "for i, tick in enumerate(yticks):\n",
    "    if i == 7:\n",
    "        tick.set_color('#FF9282')\n",
    "    elif i < 7:\n",
    "        tick.set_color('#8099FF')\n",
    "    else:\n",
    "        tick.set_color('#7CC8C5')\n",
    "plt.savefig('D:\\\\Research\\\\Project\\\\PROJECTS\\\\COVID-19\\\\污水\\\\res补\\\\峰谷（信号检测）峰汇总.pdf', dpi=300, bbox_inches='tight')\n",
    "plt.show()"
   ]
  },
  {
   "cell_type": "code",
   "execution_count": null,
   "id": "06186d40",
   "metadata": {
    "ExecuteTime": {
     "end_time": "2024-06-04T13:30:40.266552Z",
     "start_time": "2024-06-04T13:30:40.061514Z"
    }
   },
   "outputs": [],
   "source": [
    "data = result_df['valleys']\n",
    "df = pd.DataFrame(dict([(k, pd.Series(v)) for k, v in data.items()]))\n",
    "\n",
    "# 创建一个空的矩阵来表示热图\n",
    "heatmap_data = np.zeros((len(df.columns), 35))\n",
    "\n",
    "# 填充矩阵\n",
    "for i, col in enumerate(df.columns):\n",
    "    for val in df[col].dropna():\n",
    "        heatmap_data[i, int(val)] = 1\n",
    "\n",
    "# 创建一个 DataFrame 来表示热图数据\n",
    "heatmap_df = pd.DataFrame(heatmap_data, index=std_df.columns, columns=range(35))\n",
    "\n",
    "# 绘制热图\n",
    "plt.figure(figsize=(10, 6))\n",
    "sns.heatmap(heatmap_df, cmap='Greens', cbar=False, linewidths=.5, linecolor='black',alpha = 0.7)\n",
    "#title_color = '#FF9282' if i == 7 else '#8099FF' if i < 7 else '#7CC8C5'\n",
    "# 设置x轴和y轴标签\n",
    "plt.xlabel('Weeks', fontdict= {'fontsize':20, 'fontweight': 'bold'})\n",
    "#plt.ylabel('Surveillance system', fontdict= {'fontsize':20, 'fontweight': 'bold'})\n",
    "\n",
    "# 设置x轴刻度\n",
    "plt.xticks(np.arange(0.5, 35.5, 1), range(35) )\n",
    "plt.yticks(np.arange(len(df.columns)) + 0.5,std_df.columns, rotation=0)\n",
    "# 设置 y 轴刻度标签的颜色\n",
    "yticks = plt.gca().get_yticklabels()\n",
    "for i, tick in enumerate(yticks):\n",
    "    if i == 7:\n",
    "        tick.set_color('#FF9282')\n",
    "    elif i < 7:\n",
    "        tick.set_color('#8099FF')\n",
    "    else:\n",
    "        tick.set_color('#7CC8C5')\n",
    "plt.savefig('D:\\\\Research\\\\Project\\\\PROJECTS\\\\COVID-19\\\\污水\\\\res补\\\\峰谷（信号检测）谷汇总.pdf', dpi=300, bbox_inches='tight')\n",
    "plt.show()"
   ]
  },
  {
   "cell_type": "code",
   "execution_count": null,
   "id": "6562f917",
   "metadata": {
    "ExecuteTime": {
     "end_time": "2024-06-04T13:25:39.572321Z",
     "start_time": "2024-06-04T13:25:38.477679Z"
    }
   },
   "outputs": [],
   "source": [
    "columns_to_keep = list(set(std_df.columns) - set(std_df.columns[2:6]) - set(std_df.columns[11:]))\n",
    "new_df = std_df[columns_to_keep].copy()\n",
    "\n",
    "new_column_order = ['SS_P+', 'Fever_p+', 'DSP', 'BI', 'N', 'ORF', 'p+']\n",
    "\n",
    "new_df = new_df.reindex(columns=new_column_order)\n",
    "\n",
    "fig, axs = plt.subplots(len(new_df.columns), sharex=True, figsize=(30, 70))\n",
    "\n",
    "for i, column in enumerate(new_df.columns):\n",
    "    data = new_df[column]\n",
    "    peaks, _ = find_peaks(data)\n",
    "    valleys, _ = find_peaks(-data)\n",
    "    \n",
    "\n",
    "    result = [column, peaks, valleys]\n",
    "    \n",
    "\n",
    "    temp_df = pd.DataFrame([result], columns=['column', 'peaks', 'valleys'])\n",
    "    \n",
    "    # 将当前结果 DataFrame 追加到最终结果 DataFrame 中\n",
    "    result_df = result_df.append(temp_df, ignore_index=True)\n",
    "    title_color = '#FF9282' if i == 3 else '#8099FF' if i < 3 else '#7CC8C5'\n",
    "    axs[i].plot(data, linewidth=6, color= title_color)\n",
    "    axs[i].fill_between(data.index, -0.03, data.values, alpha = 0.3,  color = title_color)\n",
    "    axs[i].scatter(peaks, data[peaks], c='#1A9E76', label='Peaks', s=2400, marker='*')\n",
    "    axs[i].scatter(valleys, data[valleys], c='#766FB3', label='Valleys',s= 2400)\n",
    "    #axs[i].set_ylabel('Value', )\n",
    "    \n",
    "    title_font = {'fontsize':70, 'fontweight': 'bold','color': title_color}\n",
    "    axs[i].set_title(f'{column}', fontdict=title_font)\n",
    "    axs[i].set_ylim(-0.03,1.2)\n",
    "    axs[i].set_ylabel('Standard data', fontdict= {'fontsize':60, 'fontweight': 'bold'})\n",
    "plt.tight_layout()\n",
    "plt.xlabel('Time', fontdict={'fontsize':60, 'fontweight': 'bold'})\n",
    "\n",
    "\n",
    "plt.xlim(new_df.index[0], new_df.index[-1])\n",
    "#plt.ylim(0, 1.2)\n",
    "plt.gca().xaxis.set_major_locator(mdates.DayLocator(interval=3))\n",
    "plt.savefig('D:\\\\Research\\\\Project\\\\PROJECTS\\\\COVID-19\\\\污水\\\\version_2\\\\所有峰谷（信号检测）.pdf', dpi=300)\n",
    "# 显示图形\n",
    "plt.show()"
   ]
  },
  {
   "cell_type": "code",
   "execution_count": null,
   "id": "02392609",
   "metadata": {
    "ExecuteTime": {
     "end_time": "2024-06-04T13:26:17.116174Z",
     "start_time": "2024-06-04T13:26:16.358840Z"
    }
   },
   "outputs": [],
   "source": [
    "plt.rc('font',family='Times New Roman')\n",
    "plt.rcParams.update({'font.size': 40})\n",
    "plt.rcParams.update({'font.weight': 'bold'})\n",
    "\n",
    "result_df = pd.DataFrame()\n",
    "\n",
    "\n",
    "fig, axs = plt.subplots(len(std_df.columns[1:6]), sharex=True, figsize=(30, 30))\n",
    "\n",
    "for i, column in enumerate(std_df.columns[1:6]):\n",
    "    data = std_df.iloc[:, 1:6][column]\n",
    "    peaks, _ = find_peaks(data)\n",
    "    valleys, _ = find_peaks(-data)\n",
    "    \n",
    "\n",
    "    result = [column, peaks, valleys]\n",
    "    \n",
    "\n",
    "    temp_df = pd.DataFrame([result], columns=['column', 'peaks', 'valleys'])\n",
    "    \n",
    "    # 将当前结果 DataFrame 追加到最终结果 DataFrame 中\n",
    "    result_df = result_df.append(temp_df, ignore_index=True)\n",
    "\n",
    "    axs[i].plot(data, linewidth=6, color= '#FF9282')\n",
    "    axs[i].fill_between(data.index, -0.05, data.values, alpha = 0.3,  color = '#FF9282')\n",
    "    axs[i].scatter(peaks, data[peaks], c='#1A9E76', label='Peaks', s=2400, marker='*')\n",
    "    axs[i].scatter(valleys, data[valleys], c='#766FB3', label='Valleys',s= 2400)\n",
    "    #axs[i].set_ylabel('Value', )\n",
    "    #title_color = '#FF9282' if i == 7 else '#8099FF' if i < 7 else '#7CC8C5'\n",
    "    title_font = {'fontsize':60, 'fontweight': 'bold'}\n",
    "    axs[i].set_title(f'{column}', fontdict=title_font)\n",
    "    axs[i].set_ylim(-0.05,1.2)\n",
    "    axs[i].set_ylabel('Standard data', fontdict= {'fontsize':45, 'fontweight': 'bold'})\n",
    "plt.tight_layout()\n",
    "plt.xlabel('Time', fontdict={'fontsize':45, 'fontweight': 'bold'})\n",
    "\n",
    "\n",
    "plt.xlim(std_df.index[0], std_df.index[-1])\n",
    "#plt.ylim(0, 1.2)\n",
    "plt.gca().xaxis.set_major_locator(mdates.DayLocator(interval=3))\n",
    "plt.savefig('D:\\\\Research\\\\Project\\\\PROJECTS\\\\COVID-19\\\\污水\\\\version_2\\\\Fever_峰谷（信号检测）.pdf', dpi=300)\n",
    "# 显示图形\n",
    "plt.show()"
   ]
  },
  {
   "cell_type": "code",
   "execution_count": null,
   "id": "025a06c5",
   "metadata": {
    "ExecuteTime": {
     "end_time": "2024-06-04T13:26:36.707517Z",
     "start_time": "2024-06-04T13:26:34.862212Z"
    }
   },
   "outputs": [],
   "source": [
    "plt.rc('font',family='Times New Roman')\n",
    "plt.rcParams.update({'font.size': 40})\n",
    "plt.rcParams.update({'font.weight': 'bold'})\n",
    "\n",
    "result_df = pd.DataFrame()\n",
    "\n",
    "\n",
    "fig, axs = plt.subplots(len(std_df.columns[8:]), sharex=True, figsize=(30, 80))\n",
    "\n",
    "for i, column in enumerate(std_df.columns[8:]):\n",
    "    data = std_df.iloc[:, 8:][column]\n",
    "    peaks, _ = find_peaks(data)\n",
    "    valleys, _ = find_peaks(-data)\n",
    "    \n",
    "\n",
    "    result = [column, peaks, valleys]\n",
    "    \n",
    "\n",
    "    temp_df = pd.DataFrame([result], columns=['column', 'peaks', 'valleys'])\n",
    "    \n",
    "    # 将当前结果 DataFrame 追加到最终结果 DataFrame 中\n",
    "    result_df = result_df.append(temp_df, ignore_index=True)\n",
    "\n",
    "    axs[i].plot(data, linewidth=6, color= '#7CC8C5')\n",
    "    axs[i].fill_between(data.index, -0.05, data.values, alpha = 0.3,  color = '#7CC8C5')\n",
    "    axs[i].scatter(peaks, data[peaks], c='#1A9E76', label='Peaks', s=2400, marker='*')\n",
    "    axs[i].scatter(valleys, data[valleys], c='#766FB3', label='Valleys',s= 2400)\n",
    "    #axs[i].set_ylabel('Value', )\n",
    "    #title_color = '#FF9282' if i == 7 else '#8099FF' if i < 7 else '#7CC8C5'\n",
    "    title_font = {'fontsize':60, 'fontweight': 'bold'}\n",
    "    axs[i].set_title(f'{column}', fontdict=title_font)\n",
    "    axs[i].set_ylim(-0.05,1.2)\n",
    "    axs[i].set_ylabel('Standard data', fontdict= {'fontsize':45, 'fontweight': 'bold'})\n",
    "plt.tight_layout()\n",
    "plt.xlabel('Time', fontdict={'fontsize':45, 'fontweight': 'bold'})\n",
    "\n",
    "\n",
    "plt.xlim(std_df.index[0], std_df.index[-1])\n",
    "#plt.ylim(0, 1.2)\n",
    "plt.gca().xaxis.set_major_locator(mdates.DayLocator(interval=3))\n",
    "plt.savefig('D:\\\\Research\\\\Project\\\\PROJECTS\\\\COVID-19\\\\污水\\\\version_2\\\\污水_峰谷（信号检测）.pdf', dpi=300)\n",
    "# 显示图形\n",
    "plt.show()"
   ]
  },
  {
   "cell_type": "markdown",
   "id": "94e02787",
   "metadata": {},
   "source": [
    "# 4. Correlation"
   ]
  },
  {
   "cell_type": "code",
   "execution_count": null,
   "id": "da924cc3",
   "metadata": {
    "ExecuteTime": {
     "end_time": "2024-06-04T13:31:17.122603Z",
     "start_time": "2024-06-04T13:31:16.686095Z"
    }
   },
   "outputs": [],
   "source": [
    "from scipy import stats\n",
    "\n",
    "# 计算相关系数矩阵\n",
    "corr = std_df.corr()\n",
    "\n",
    "# 计算p值矩阵\n",
    "p_matrix = np.ones_like(corr.values)\n",
    "for i in range(corr.shape[0]):\n",
    "    for j in range(corr.shape[1]):\n",
    "        if i == j:\n",
    "            continue\n",
    "        x = std_df.iloc[:, i]\n",
    "        y = std_df.iloc[:, j]\n",
    "        valid_idx = np.logical_and(np.isfinite(x), np.isfinite(y))\n",
    "        _, p = stats.pearsonr(x[valid_idx], y[valid_idx])\n",
    "        p_matrix[i, j] = p\n",
    "\n",
    "# 将p值矩阵转换为DataFrame\n",
    "p_df = pd.DataFrame(p_matrix, index=corr.index, columns=corr.columns)\n",
    "corr.to_excel('D:\\\\Research\\\\Project\\\\PROJECTS\\\\COVID-19\\\\污水\\\\result\\\\upgraded\\\\相关结果.xlsx')\n",
    "p_df .to_excel('D:\\\\Research\\\\Project\\\\PROJECTS\\\\COVID-19\\\\污水\\\\result\\\\upgraded\\\\相关统计学检验.xlsx')"
   ]
  },
  {
   "cell_type": "code",
   "execution_count": null,
   "id": "9f14542d",
   "metadata": {
    "ExecuteTime": {
     "end_time": "2024-06-04T13:31:33.468970Z",
     "start_time": "2024-06-04T13:31:30.550062Z"
    }
   },
   "outputs": [],
   "source": [
    "plt.rc('font', family='Times New Roman', weight='bold')\n",
    "plt.rcParams.update({'font.size': 50})\n",
    "\n",
    "plt.figure(figsize=(30, 30), dpi=300)\n",
    "mask = np.triu(np.ones_like(corr, dtype=bool))\n",
    "ax = sns.heatmap(corr, cmap='RdBu', cbar_kws={\"shrink\": 0.5}, square=True, linewidths=0.5, fmt=\".2f\", vmin = -1, vmax =1, mask=mask)\n",
    "# 设置 x 和 y 轴标签的颜色\n",
    "for i, tick in enumerate(ax.get_xticklabels()):\n",
    "    title_color = '#FF9282' if i == 7 else '#8099FF' if i < 7 else '#7CC8C5'\n",
    "    tick.set_color(title_color)\n",
    "    \n",
    "for i, tick in enumerate(ax.get_yticklabels()):\n",
    "    title_color = '#FF9282' if i == 7 else '#8099FF' if i < 7 else '#7CC8C5'\n",
    "    tick.set_color(title_color)\n",
    "plt.savefig('D:\\\\Research\\\\Project\\\\PROJECTS\\\\COVID-19\\\\污水\\\\version_2\\\\相关All.pdf', dpi=300)\n",
    "plt.show()"
   ]
  },
  {
   "cell_type": "code",
   "execution_count": null,
   "id": "e3d2f640",
   "metadata": {
    "ExecuteTime": {
     "end_time": "2024-06-04T13:31:46.488939Z",
     "start_time": "2024-06-04T13:31:43.213495Z"
    }
   },
   "outputs": [],
   "source": [
    "plt.figure(figsize=(30, 30), dpi=300)\n",
    "ax = sns.heatmap(p_df, cmap='RdPu', cbar_kws={\"shrink\": 0.5}, square=True, linewidths=0.5,  annot=False, vmin=0, vmax=1, mask=mask)\n",
    "\n",
    "\n",
    "# 标记p小于0.05的值为'*'\n",
    "for i in range(p_df.shape[0]):\n",
    "    for j in range(p_df.shape[1]):\n",
    "        if p_df.values[i, j] < 0.05 and mask[i, j]:\n",
    "            ax.annotate('*', xy=(i + 0.5, j + 0.5), color='black', ha='center', va='center')\n",
    "# 设置 x 和 y 轴标签的颜色\n",
    "for i, tick in enumerate(ax.get_xticklabels()):\n",
    "    title_color = '#FF9282' if i == 7 else '#8099FF' if i < 7 else '#7CC8C5'\n",
    "    tick.set_color(title_color)\n",
    "    \n",
    "for i, tick in enumerate(ax.get_yticklabels()):\n",
    "    title_color = '#FF9282' if i == 7 else '#8099FF' if i < 7 else '#7CC8C5'\n",
    "    tick.set_color(title_color)\n",
    "# 在图下方添加文本注释\n",
    "plt.text(0, -0.43, \"* : p < 0.05\", ha='center', va='center', transform=ax.transAxes, fontsize=60)\n",
    "plt.savefig('D:\\\\Research\\\\Project\\\\PROJECTS\\\\COVID-19\\\\污水\\\\version_2\\\\相关All统计学结果.pdf', dpi=300, bbox_inches='tight')\n",
    "plt.show()"
   ]
  },
  {
   "cell_type": "code",
   "execution_count": null,
   "id": "75a481d3",
   "metadata": {
    "ExecuteTime": {
     "end_time": "2024-06-04T13:32:06.809615Z",
     "start_time": "2024-06-04T13:32:04.574007Z"
    }
   },
   "outputs": [],
   "source": [
    "plt.rc('font', family='Times New Roman', weight='bold')\n",
    "plt.rcParams.update({'font.size': 25})\n",
    "\n",
    "plt.figure(figsize=(30, 30), dpi=300)\n",
    "mask = np.triu(np.ones_like(corr, dtype=bool))\n",
    "ax = sns.heatmap(corr, cmap='RdBu', cbar_kws={\"shrink\": 0.5}, annot=True, square=True, linewidths=0.5, fmt=\".2f\", vmin = -1, vmax =1, mask=mask)\n",
    "## 设置 x 和 y 轴标签的颜色\n",
    "#for i, tick in enumerate(ax.get_xticklabels()):\n",
    "  #  title_color = '#FF9282' if i == 7 else '#8099FF' if i < 7 else '#7CC8C5'\n",
    "   # tick.set_color(title_color)\n",
    "    \n",
    "#for i, tick in enumerate(ax.get_yticklabels()):\n",
    "  #  title_color = '#FF9282' if i == 7 else '#8099FF' if i < 7 else '#7CC8C5'\n",
    "    #tick.set_color(title_color)\n",
    "#plt.savefig('D:\\\\Research\\\\Project\\\\PROJECTS\\\\COVID-19\\\\污水\\\\version_2\\\\相关All.pdf', dpi=300)\n",
    "plt.show()"
   ]
  },
  {
   "cell_type": "markdown",
   "id": "daff9d3d",
   "metadata": {},
   "source": [
    "# 5.  Lead-lag correlation"
   ]
  },
  {
   "cell_type": "code",
   "execution_count": null,
   "id": "d6eab743",
   "metadata": {
    "ExecuteTime": {
     "end_time": "2024-09-05T02:24:56.724605Z",
     "start_time": "2024-09-05T02:24:56.716419Z"
    }
   },
   "outputs": [],
   "source": [
    "def leadlagcor(data1, data2, n):\n",
    "    a = -n\n",
    "    b = -a\n",
    "    c = b * 2 + 1\n",
    "    x = np.arange(-n, n + 1, 1)\n",
    "    r = np.zeros(c)\n",
    "    p = np.zeros(c)\n",
    "\n",
    "    for i in range(c):\n",
    "        if i < b:\n",
    "            r[n - i], p[n - i] = stats.pearsonr(data1[:(len(data1) - i)], data2[i:])\n",
    "        else:\n",
    "            r[i], p[i] = stats.pearsonr(data1[x[i]:], data2[:len(data1) - x[i]])\n",
    "\n",
    "    corr_df = pd.DataFrame({'n': x, 'r': r, 'p': p})\n",
    "    max_r = corr_df['r'].max()\n",
    "    max_rows = corr_df[corr_df['r'] == max_r]\n",
    "\n",
    "    min_p = max_rows['p'].min()\n",
    "    min_n = max_rows['n'].min()\n",
    "    selected_row = max_rows[(max_rows['p'] == min_p) & (max_rows['n'] == min_n)]\n",
    "\n",
    "    max_n = selected_row['n'].item()\n",
    "    max_p = selected_row['p'].item()\n",
    "    return  r, p, max_n, max_r  , max_p"
   ]
  },
  {
   "cell_type": "code",
   "execution_count": null,
   "id": "419da9a9",
   "metadata": {
    "ExecuteTime": {
     "end_time": "2024-09-05T02:38:59.544905Z",
     "start_time": "2024-09-05T02:38:34.120964Z"
    }
   },
   "outputs": [],
   "source": [
    "from scipy import stats\n",
    "corrs = []\n",
    "ns = []\n",
    "ps = []\n",
    "for i in std_df.columns:\n",
    "    for j in std_df.columns:\n",
    "        x1 = std_df[i]\n",
    "        x2 = std_df[j]\n",
    "        r = leadlagcor(x1, x2, 6)[0]\n",
    "        #r = leadlagcor(x1, x2, 6)[1]\n",
    "        p = leadlagcor(x1, x2, 6)[4]\n",
    "        corr = leadlagcor(x1, x2, 6)[3]\n",
    "        n = leadlagcor(x1, x2, 6)[2]\n",
    "        \n",
    "        corrs.append(corr)\n",
    "        ns.append(n)\n",
    "        ps.append(p)\n",
    "        \n",
    "corr_matrix = np.array(corrs).reshape(23, 23)\n",
    "corr_matrix = pd.DataFrame(corr_matrix, index=std_df.columns, columns=std_df.columns)\n",
    "\n",
    "corr_sta_matrix = np.array(ps).reshape(23, 23)\n",
    "corr_sta_matrix = pd.DataFrame(corr_sta_matrix, index=std_df.columns, columns=std_df.columns)\n",
    "\n",
    "lag_matrix = np.array(ns).reshape(23, 23)\n",
    "lag_matrix = pd.DataFrame(lag_matrix, index=std_df.columns, columns=std_df.columns)  "
   ]
  },
  {
   "cell_type": "code",
   "execution_count": null,
   "id": "f4d24929",
   "metadata": {
    "ExecuteTime": {
     "end_time": "2024-06-04T13:33:25.995918Z",
     "start_time": "2024-06-04T13:33:23.085649Z"
    }
   },
   "outputs": [],
   "source": [
    "plt.rc('font', family='Times New Roman', weight='bold')\n",
    "plt.rcParams.update({'font.size': 50})\n",
    "\n",
    "plt.figure(figsize=(30, 30), dpi=300)\n",
    "ax = sns.heatmap(corr_matrix, cmap='RdBu', cbar_kws={\"shrink\": 0.5}, square=True, linewidths=0.5, fmt=\".2f\", vmin = -1, vmax =1,mask = mask)\n",
    "\n",
    "# 设置 x 和 y 轴标签的颜色\n",
    "for i, tick in enumerate(ax.get_xticklabels()):\n",
    "    title_color = '#FF9282' if i == 7 else '#8099FF' if i < 7 else '#7CC8C5'\n",
    "    tick.set_color(title_color)\n",
    "    \n",
    "for i, tick in enumerate(ax.get_yticklabels()):\n",
    "    title_color = '#FF9282' if i == 7 else '#8099FF' if i < 7 else '#7CC8C5'\n",
    "    tick.set_color(title_color)\n",
    "plt.savefig(f\"D:\\\\Research\\\\Project\\\\PROJECTS\\\\COVID-19\\\\污水\\\\version_2\\\\超前滞后相关All结果.pdf\", dpi=450, bbox_inches='tight')\n",
    "plt.show()"
   ]
  },
  {
   "cell_type": "code",
   "execution_count": null,
   "id": "6da59ebe",
   "metadata": {
    "ExecuteTime": {
     "end_time": "2024-06-04T13:34:00.680708Z",
     "start_time": "2024-06-04T13:33:57.397355Z"
    }
   },
   "outputs": [],
   "source": [
    "plt.rc('font', family='Times New Roman', weight='bold')\n",
    "plt.rcParams.update({'font.size': 50})\n",
    "\n",
    "plt.figure(figsize=(30, 30), dpi=300)\n",
    "ax = sns.heatmap(corr_sta_matrix, cmap='RdPu', cbar_kws={\"shrink\": 0.5}, square=True, linewidths=0.5, fmt=\".2f\", vmin=0, vmax=1,mask=mask)\n",
    "\n",
    "# 标记p小于0.05的值为'*'\n",
    "for i in range(corr_sta_matrix.shape[0]):\n",
    "    for j in range(corr_sta_matrix.shape[1]):\n",
    "        if corr_sta_matrix.values[i, j] < 0.05 and mask[i, j]:\n",
    "            ax.annotate('*', xy=(i + 0.5, j + 0.5), color='black', ha='center', va='center')\n",
    "# 设置 x 和 y 轴标签的颜色\n",
    "for i, tick in enumerate(ax.get_xticklabels()):\n",
    "    title_color = '#FF9282' if i == 7 else '#8099FF' if i < 7 else '#7CC8C5'\n",
    "    tick.set_color(title_color)\n",
    "    \n",
    "for i, tick in enumerate(ax.get_yticklabels()):\n",
    "    title_color = '#FF9282' if i == 7 else '#8099FF' if i < 7 else '#7CC8C5'\n",
    "    tick.set_color(title_color)\n",
    "# 在图下方添加文本注释\n",
    "plt.text(0, -0.43, \"* : p < 0.05\", ha='center', va='center', transform=ax.transAxes, fontsize=50)\n",
    "\n",
    "plt.savefig('D:\\\\Research\\\\Project\\\\PROJECTS\\\\COVID-19\\\\污水\\\\version_2\\\\超前滞后相关统计学结果.pdf', dpi=300, bbox_inches='tight')\n",
    "plt.show()"
   ]
  },
  {
   "cell_type": "code",
   "execution_count": null,
   "id": "033adae4",
   "metadata": {
    "ExecuteTime": {
     "end_time": "2024-06-04T13:33:45.982385Z",
     "start_time": "2024-06-04T13:33:42.574344Z"
    }
   },
   "outputs": [],
   "source": [
    "plt.rcParams.update({'font.size': 50})\n",
    "plt.figure(figsize=(30, 30), dpi=300)\n",
    "ax = sns.heatmap(lag_matrix, cmap=\"coolwarm\",  annot=True, cbar_kws={\"shrink\": 0.5}, square=True, linewidths=0.5, fmt=\".0f\", vmin = -6, vmax =6)\n",
    "\n",
    "# 设置 x 和 y 轴标签的颜色\n",
    "for i, tick in enumerate(ax.get_xticklabels()):\n",
    "    title_color = '#FF9282' if i == 7 else '#8099FF' if i < 7 else '#7CC8C5'\n",
    "    tick.set_color(title_color)\n",
    "    \n",
    "for i, tick in enumerate(ax.get_yticklabels()):\n",
    "    title_color = '#FF9282' if i == 7 else '#8099FF' if i < 7 else '#7CC8C5'\n",
    "    tick.set_color(title_color)\n",
    "plt.savefig(f\"D:\\\\Research\\\\Project\\\\PROJECTS\\\\COVID-19\\\\污水\\\\version_2\\\\超前滞后阶数All结果.pdf\", dpi=450, bbox_inches='tight')    \n",
    "plt.show()"
   ]
  },
  {
   "cell_type": "code",
   "execution_count": null,
   "id": "ee6871e1",
   "metadata": {
    "ExecuteTime": {
     "end_time": "2024-06-04T13:34:45.858807Z",
     "start_time": "2024-06-04T13:34:43.821766Z"
    }
   },
   "outputs": [],
   "source": [
    "from scipy.integrate import quad\n",
    "from scipy.stats import gaussian_kde\n",
    "import warnings\n",
    "\n",
    "# 屏蔽 FutureWarning\n",
    "warnings.simplefilter(action='ignore', category=FutureWarning)\n",
    "plt.rc('font', family='Times New Roman', weight='bold')\n",
    "plt.rcParams.update({'font.size': 16})\n",
    "# 创建4x6的子图网格\n",
    "fig, axes = plt.subplots(4, 6, figsize=(20, 15))\n",
    "\n",
    "# 扁平化axes数组，方便迭代\n",
    "axes = axes.flatten()\n",
    "Area_df = pd.DataFrame(columns= ['S>0', 'S<0', 'S=0'])\n",
    "# 绘制每一行数据的概率分布图\n",
    "for i, ax in enumerate(axes):\n",
    "    if i < len(lag_matrix):\n",
    "        if i == 7:\n",
    "            title_color = '#FF9282'\n",
    "        elif i < 7:\n",
    "            title_color = '#8099FF'\n",
    "        else:\n",
    "            title_color = '#7CC8C5'\n",
    "        title_font = {'fontsize':20, 'fontweight': 'bold'} \n",
    "        ax.axvline(x=0, color='black', linestyle='--',alpha = 0.6)\n",
    "        \n",
    "        data = lag_matrix.iloc[i]\n",
    "      \n",
    "        data = data.drop(data.index[i])\n",
    "        \n",
    "        sns.kdeplot(data, ax=ax, fill=True, color=title_color,linewidth = 2)\n",
    "        ax.set_xlim(-6,6)\n",
    "        ax.set_ylim(0,2)\n",
    "        ax.set_title(lag_matrix.index[i], fontdict=title_font)\n",
    "        ax.set_xlabel('')\n",
    "        ax.set_ylabel('')\n",
    "        # 计算 KDE\n",
    "        # 计算 KDE\n",
    "        kde = gaussian_kde(data)\n",
    "        \n",
    "        # 定义积分函数\n",
    "        def kde_function(x):\n",
    "            return kde(x)\n",
    "        \n",
    "        # 计算大于0的面积\n",
    "        area_greater_than_0, _ = quad(kde_function, 0, np.inf)\n",
    "        \n",
    "        # 计算小于0的面积\n",
    "        area_less_than_0, _ = quad(kde_function, -np.inf, 0)\n",
    "        \n",
    "        # 计算等于0的面积（实际上是一个点，面积为0）\n",
    "        area_equal_to_0 = kde(0) * 0  # 面积为0\n",
    "        \n",
    "        # 将结果保存到 DataFrame 中\n",
    "        Area_df = Area_df.append({\n",
    "            'Names': lag_matrix.index[i],\n",
    "            'S>0': area_greater_than_0,\n",
    "            'S<0': area_less_than_0,\n",
    "            'S=0': area_equal_to_0\n",
    "        }, ignore_index=True)\n",
    "    else:\n",
    "        # 隐藏多余的子图\n",
    "        ax.axis('off')\n",
    "\n",
    "plt.tight_layout()\n",
    "plt.savefig(f\"D:\\\\Research\\\\Project\\\\PROJECTS\\\\COVID-19\\\\污水\\\\res补\\\\超前滞后相关分布图.pdf\", dpi=450, bbox_inches='tight')\n",
    "Area_df.to_excel(\"D:\\\\Research\\\\Project\\\\PROJECTS\\\\COVID-19\\\\污水\\\\res补\\\\超前滞后面积.xlsx\")\n",
    "# 显示图形\n",
    "plt.show()"
   ]
  },
  {
   "cell_type": "code",
   "execution_count": null,
   "id": "5201f657",
   "metadata": {
    "ExecuteTime": {
     "end_time": "2024-09-05T02:41:38.811006Z",
     "start_time": "2024-09-05T02:39:16.698434Z"
    }
   },
   "outputs": [],
   "source": [
    "plt.rc('font', family='Times New Roman')\n",
    "plt.rcParams.update({'font.size': 30})\n",
    "plt.rcParams.update({'font.weight': 'bold'})\n",
    "corrs = [] #max_r\n",
    "ns = []  #max_p\n",
    "ps = []#max_n\n",
    "\n",
    "fig, axes = plt.subplots(23, 23, figsize=(90, 90), dpi=300)  # 创建包含23行23列子图的图形\n",
    "\n",
    "for i, col1 in enumerate(std_df.columns):\n",
    "    for j, col2 in enumerate(std_df.columns):\n",
    "        x1 = std_df[col1]\n",
    "        x2 = std_df[col2]  \n",
    "        r = leadlagcor(x1, x2, 6)[0]  #r\n",
    "        p = leadlagcor(x1, x2, 6)[1]  #p\n",
    "        pmax = leadlagcor(x1, x2, 6)[2] #max_n\n",
    "        corr = leadlagcor(x1, x2, 6)[3] #max_r\n",
    "        n = leadlagcor(x1, x2, 6)[4]  #max_p\n",
    "        \n",
    "        corrs.append(corr)\n",
    "        ns.append(n)\n",
    "        ps.append(pmax)\n",
    "        \n",
    "        x = range(-6, 6 + 1, 1)\n",
    "        \n",
    "        ax = axes[i, j]\n",
    "        ax.plot(x, r, '#7CC8C5', linewidth=8, linestyle='dotted')\n",
    "        ax.set_ylim(-1.05,1.05)\n",
    "        ax.set_xlim(-7, 7)\n",
    "        ax.axhline(0, color='k')\n",
    "        bx = ax.bar(x, np.squeeze(r), color='#FF9282', width=0.95)\n",
    "        \n",
    "        ax.set_ylabel(col1, fontsize=20, fontweight = 'bold')\n",
    "        ax.set_title(col2, fontsize=20, fontweight = 'bold',pad=20)\n",
    "        \n",
    "        \n",
    "        for idx, (bar, height) in enumerate(zip(bx, r)):\n",
    "            if height >= 0:\n",
    "                bar.set(color='#FF9282', width=0.95)\n",
    "            else:\n",
    "                bar.set(color='#8099FF', width=0.93)\n",
    "                \n",
    "            if p[idx] < 0.05:\n",
    "                ax.annotate('*', xy=(x[idx], height), \n",
    "                            ha='center', va='bottom', color='black',fontsize=20)\n",
    "            \n",
    "        #plt.setp(ax.get_xticklabels(), visible=False)\n",
    "        #plt.setp(ax.get_yticklabels(), visible=False)\n",
    "        #ax.set_xticks([])\n",
    "        #ax.set_yticks([])\n",
    "         \n",
    "#corr_matrix.to_excel('D:\\\\Research\\\\Project\\\\PROJECTS\\\\COVID-19\\\\污水\\\\result\\\\upgraded\\\\超前滞后结果.xlsx')\n",
    "#corr_sta_matrix.to_excel('D:\\\\Research\\\\Project\\\\PROJECTS\\\\COVID-19\\\\污水\\\\result\\\\upgraded\\\\超前滞后统计学结果.xlsx')\n",
    "#lag_matrix.to_excel('D:\\\\Research\\\\Project\\\\PROJECTS\\\\COVID-19\\\\污水\\\\result\\\\upgraded\\\\最大滞后阶数.xlsx')        \n",
    "        \n",
    "plt.tight_layout()  # 调整子图之间的间距\n",
    "plt.savefig('D:\\\\Research\\\\Project\\\\PROJECTS\\\\COVID-19\\\\污水\\\\manuscript_new\\\\manuscript\\\\Supplementary Material\\\\Fig S6.pdf', dpi=300)\n",
    "#plt.show()"
   ]
  },
  {
   "cell_type": "markdown",
   "id": "e1fe1619",
   "metadata": {},
   "source": [
    "# 6. Morisita Horn Similarity Index"
   ]
  },
  {
   "cell_type": "code",
   "execution_count": null,
   "id": "0de72fd4",
   "metadata": {
    "ExecuteTime": {
     "end_time": "2024-06-05T05:26:02.598029Z",
     "start_time": "2024-06-05T05:26:02.583633Z"
    }
   },
   "outputs": [],
   "source": [
    "def Morisita_Horn_Index(x1, x2):\n",
    "    try:\n",
    "        pf1 = x1.apply(lambda x1: x1**2)\n",
    "        pf2 = x2.apply(lambda x2: x2**2)\n",
    "        \n",
    "        pfh1 = sum(pf1)\n",
    "        pfh2 = sum(pf2)\n",
    "        \n",
    "        hpf1 = sum(x1)**2\n",
    "        hpf2 = sum(x2)**2\n",
    "        \n",
    "        L1 = pfh1/hpf1 if hpf1 != 0 else 0\n",
    "        L2 = pfh2/hpf2 if hpf2 != 0 else 0\n",
    "        \n",
    "        if L1 ==0 or L2 == 0:\n",
    "            return 0\n",
    "        \n",
    "        L = L1 + L2\n",
    "        \n",
    "        M = sum(x1)*sum(x2)\n",
    "        \n",
    "        K = 2*sum(x1*x2)\n",
    "        \n",
    "        A = L*M\n",
    "        \n",
    "        I = K/A\n",
    "        return I\n",
    "    except ZeroDivisionError:\n",
    "        return 0"
   ]
  },
  {
   "cell_type": "code",
   "execution_count": null,
   "id": "d5713212",
   "metadata": {
    "ExecuteTime": {
     "end_time": "2024-06-05T05:26:08.015909Z",
     "start_time": "2024-06-05T05:26:07.877663Z"
    }
   },
   "outputs": [],
   "source": [
    "indexs = []\n",
    "for i in std_df.columns:\n",
    "    for j in std_df.columns:\n",
    "        x1 = std_df[i]\n",
    "        x2 = std_df[j]\n",
    "        index = Morisita_Horn_Index(x1, x2)\n",
    "        indexs.append(index)\n",
    "matrix = np.array(indexs).reshape(23, 23)\n",
    "matrix = pd.DataFrame(matrix, index = std_df.columns, columns = std_df.columns)\n",
    "#matrix.to_excel('D:\\\\Research\\\\Project\\\\PROJECTS\\\\COVID-19\\\\污水\\\\result\\\\upgraded\\\\相似性结果.xlsx')\n",
    "matrix.head(2)    "
   ]
  },
  {
   "cell_type": "code",
   "execution_count": null,
   "id": "235fef3f",
   "metadata": {
    "ExecuteTime": {
     "end_time": "2024-06-05T05:26:17.921765Z",
     "start_time": "2024-06-05T05:26:14.647394Z"
    }
   },
   "outputs": [],
   "source": [
    "plt.figure(figsize=(30, 30), dpi=300)\n",
    "plt.rc('font', family='Times New Roman')\n",
    "plt.rcParams.update({'font.weight': 'bold'})\n",
    "plt.rcParams.update({'font.size': 50})\n",
    "\n",
    "# 将矩阵展平以便绘制气泡图\n",
    "matrix_flat = matrix.values.flatten()\n",
    "\n",
    "# 创建气泡图\n",
    "scatter = plt.scatter(np.repeat(np.arange(23), 23), np.tile(np.arange(23), 23), s=matrix_flat*2500, c=matrix_flat, cmap='inferno')\n",
    "# 添加颜色条\n",
    "# 添加颜色条并设置位置\n",
    "cbar = plt.colorbar(scatter)\n",
    "#cbar.set_label('Color Bar Label', fontsize=40)\n",
    "cbar.ax.set_position([0.80, 0.11, 0.03, 0.5])  # 设置 colorbar 位置和大小\n",
    "\n",
    "# 设置 xticks 和 yticks\n",
    "plt.xticks(np.arange(23), matrix.columns, rotation=90)\n",
    "plt.yticks(np.arange(23), matrix.index)\n",
    "\n",
    "# 设置特定颜色\n",
    "for i, tick in enumerate(plt.gca().get_yticklabels()):\n",
    "    title_color = '#FF9282' if i == 7 else '#8099FF' if i < 7 else '#7CC8C5'\n",
    "    tick.set_color(title_color)\n",
    "for i, tick in enumerate(plt.gca().get_xticklabels()):\n",
    "    title_color = '#FF9282' if i == 7 else '#8099FF' if i < 7 else '#7CC8C5'\n",
    "    tick.set_color(title_color)\n",
    "# 设置 s 值对应大小的 legend\n",
    "sizes = [0.1, 0.4, 0.7, 1.0]  # 您可以根据实际情况调整这些值\n",
    "for size in sizes:\n",
    "    plt.scatter([], [], s=size*2500, label=str(size),color='k')\n",
    "    \n",
    "plt.legend(title='Size', loc='upper right', bbox_to_anchor=(1.21, 1))\n",
    "#plt.savefig('D:\\\\Research\\\\Project\\\\PROJECTS\\\\COVID-19\\\\污水\\\\version_2\\\\相似性结果2.pdf', dpi=300, bbox_inches='tight')\n",
    "plt.show()"
   ]
  },
  {
   "cell_type": "code",
   "execution_count": null,
   "id": "b69d1657",
   "metadata": {
    "ExecuteTime": {
     "end_time": "2024-06-05T05:26:23.622075Z",
     "start_time": "2024-06-05T05:26:19.397232Z"
    },
    "scrolled": true
   },
   "outputs": [],
   "source": [
    "plt.figure(figsize=(30, 30), dpi=300)\n",
    "plt.rc('font', family='Times New Roman')\n",
    "plt.rcParams.update({'font.weight': 'bold'})\n",
    "plt.rcParams.update({'font.size': 20})\n",
    "ax = sns.heatmap(matrix, annot=True, cmap='Blues', cbar_kws={\"shrink\": 0.5}, square=True, linewidths=0.5, fmt=\".3f\",)\n",
    "plt.savefig(f\"D:\\\\Research\\\\Project\\\\PROJECTS\\\\COVID-19\\\\污水\\\\update_fig\\\\相似性结果.pdf\", dpi=450, bbox_inches='tight')\n",
    "plt.show()"
   ]
  },
  {
   "cell_type": "markdown",
   "id": "ce83fa07",
   "metadata": {},
   "source": [
    "# 7. Time series clustering analysis"
   ]
  },
  {
   "cell_type": "code",
   "execution_count": null,
   "id": "01760724",
   "metadata": {
    "ExecuteTime": {
     "end_time": "2024-09-03T13:54:37.411773Z",
     "start_time": "2024-09-03T13:54:37.362826Z"
    }
   },
   "outputs": [],
   "source": [
    "#from tslearn.clustering import KernelKMeans\n",
    "#from tslearn.metrics import dtw, gamma_soft_dtw\n",
    "from tslearn.preprocessing import TimeSeriesScalerMeanVariance\n",
    "from scipy.spatial.distance import euclidean\n",
    "from fastdtw import fastdtw\n",
    "\n",
    "\n",
    "scaler = TimeSeriesScalerMeanVariance(mu=0., std=1.)  # 均值为0，标准差为1\n",
    "data_scaled = scaler.fit_transform(std_df)\n",
    "clu_df = pd.DataFrame(data_scaled .reshape(34,23),index = std_df.index, columns = std_df.columns)\n",
    "\n",
    "distances = []\n",
    "for i in clu_df.columns:\n",
    "    for j in clu_df.columns:\n",
    "        distance, path = fastdtw(np.reshape(clu_df[i].values, (1, -1)), np.reshape(clu_df[j].values, (1, -1)), dist=euclidean)\n",
    "        distances.append(distance)\n",
    "        \n",
    "distances_matrix  = np.array(distances ).reshape(23, 23)\n",
    "dis_matrix = pd.DataFrame(distances_matrix , index = clu_df.columns, columns = clu_df.columns)\n"
   ]
  },
  {
   "cell_type": "code",
   "execution_count": null,
   "id": "d22920e3",
   "metadata": {
    "ExecuteTime": {
     "end_time": "2024-09-03T13:54:50.018874Z",
     "start_time": "2024-09-03T13:54:45.465166Z"
    }
   },
   "outputs": [],
   "source": [
    "plt.figure(figsize=(30, 30), dpi=300)\n",
    "plt.rc('font', family='Times New Roman')\n",
    "plt.rcParams.update({'font.weight': 'bold'})\n",
    "plt.rcParams.update({'font.size': 20})\n",
    "ax = sns.heatmap(dis_matrix, annot=True, cmap='Blues', cbar_kws={\"shrink\": 0.5}, square=True, linewidths=0.5, fmt=\".3f\",)\n",
    "#plt.savefig(f\"D:\\\\Research\\\\Project\\\\PROJECTS\\\\COVID-19\\\\污水\\\\update_fig\\\\相似性结果.pdf\", dpi=450, bbox_inches='tight')\n",
    "plt.show()"
   ]
  },
  {
   "cell_type": "markdown",
   "id": "0b44b76e",
   "metadata": {},
   "source": [
    "## DTW"
   ]
  },
  {
   "cell_type": "code",
   "execution_count": null,
   "id": "5453174a",
   "metadata": {
    "ExecuteTime": {
     "end_time": "2024-06-05T08:00:42.233043Z",
     "start_time": "2024-06-05T08:00:33.524015Z"
    }
   },
   "outputs": [],
   "source": [
    "plt.figure(figsize=(30,30),dpi= 450)\n",
    "plt.rc('font', family='Times New Roman')\n",
    "plt.rcParams.update({'font.weight': 'bold'})\n",
    "plt.rcParams.update({'font.size': 50})\n",
    "ax = sns.heatmap(dis_matrix, vmin=0.0, vmax=16,cmap='RdBu', fmt=\".3f\", cbar_kws={\"shrink\": 0.5})#,mask=mask)\n",
    "\n",
    "\n",
    "# 设置特定颜色\n",
    "for i, tick in enumerate(plt.gca().get_yticklabels()):\n",
    "    title_color = '#FF9282' if i == 7 else '#8099FF' if i < 7 else '#7CC8C5'\n",
    "    tick.set_color(title_color)\n",
    "for i, tick in enumerate(plt.gca().get_xticklabels()):\n",
    "    title_color = '#FF9282' if i == 7 else '#8099FF' if i < 7 else '#7CC8C5'\n",
    "    tick.set_color(title_color)\n",
    "#plt.savefig(f\"D:\\\\Research\\\\Project\\\\PROJECTS\\\\COVID-19\\\\污水\\\\version_2\\\\DTW距离矩阵.pdf\", dpi=600, bbox_inches='tight') \n",
    "plt.show()"
   ]
  },
  {
   "cell_type": "markdown",
   "id": "32de968b",
   "metadata": {},
   "source": [
    "## k-h"
   ]
  },
  {
   "cell_type": "code",
   "execution_count": null,
   "id": "62e4abe3",
   "metadata": {
    "ExecuteTime": {
     "end_time": "2024-06-04T13:40:53.108592Z",
     "start_time": "2024-06-04T13:40:43.261967Z"
    }
   },
   "outputs": [],
   "source": [
    "from sklearn.metrics import silhouette_score, davies_bouldin_score, adjusted_rand_score\n",
    "from tslearn.preprocessing import TimeSeriesScalerMeanVariance\n",
    "from sklearn.cluster import KMeans\n",
    "\n",
    "kmeans_models = []\n",
    "silhouette_scores = []\n",
    "davies_bouldin_scores = []\n",
    "adjusted_rand_scores = []\n",
    "cluster_dfs = []\n",
    "for i in np.arange(2,23,1):\n",
    "    # 聚类运算\n",
    "    kmeans = KMeans(n_clusters=i, random_state=0).fit(dis_matrix)\n",
    "    kmeans_models.append(kmeans)\n",
    "    labels_true = np.array([0, 0, 0, 0, 0, 0, 0, 2, 1, 1, 1, 1, 1, 1, 1, 1, 1, 1, 1, 1, 1, 1, 1]) \n",
    "    labels = kmeans.labels_\n",
    "    cluster_df = pd.DataFrame({'sample_id': clu_df.columns, 'cluster': kmeans.labels_})\n",
    "    silhouette_scores.append(silhouette_score(distances_matrix, labels))\n",
    "    davies_bouldin_scores.append(davies_bouldin_score(distances_matrix, labels))\n",
    "    # 假设true_labels为数据的真实标签\n",
    "    adjusted_rand_scores.append(adjusted_rand_score(labels_true, labels)) \n",
    "    cluster_dfs.append(cluster_df)\n",
    "\n",
    "all_clusters = pd.concat(cluster_dfs, keys=range(2,21))\n",
    "all_clusters.to_excel('D:\\\\Research\\\\Project\\\\PROJECTS\\\\COVID-19\\\\污水\\\\result\\\\upgraded\\\\K-mean结果.xlsx')\n",
    "kmean_index = pd.DataFrame({'silhouette_scores': silhouette_scores, 'davies_bouldin_scores': davies_bouldin_scores,\n",
    "                           'adjusted_rand_scores': adjusted_rand_scores},index = np.arange(2,23,1))\n",
    "kmean_index.to_excel('D:\\\\Research\\\\Project\\\\PROJECTS\\\\COVID-19\\\\污水\\\\result\\\\upgraded\\\\K-mean_评价指标.xlsx')"
   ]
  },
  {
   "cell_type": "code",
   "execution_count": null,
   "id": "34fed34c",
   "metadata": {
    "ExecuteTime": {
     "end_time": "2024-06-04T13:41:04.048234Z",
     "start_time": "2024-06-04T13:41:03.477203Z"
    }
   },
   "outputs": [],
   "source": [
    "# 画图观察评分指标随聚类数目的变化情况\n",
    "plt.figure(figsize=(15,15),dpi= 300) \n",
    "plt.plot(range(2, 23), silhouette_scores, '#F1AC71',linewidth=6,marker='o')\n",
    "plt.plot(range(2, 23), davies_bouldin_scores, '#784D9C',linewidth=6,marker='o') \n",
    "plt.plot(range(2, 23), adjusted_rand_scores, '#186CB6',linewidth=6,marker='o')\n",
    "#plt.legend(['Silhouette Score', 'Davies-Bouldin Score','Adjusted Rand Score'])\n",
    "plt.xlabel('Number of clusters', fontdict={'fontsize':60, 'fontweight':'bold'})\n",
    "plt.ylabel('Values', fontdict={'fontsize':60, 'fontweight':'bold'})\n",
    "plt.xlim(2, 22,4)\n",
    "#plt.ylim(0, 1)\n",
    "ax = plt.gca() \n",
    "ax.xaxis.set_major_locator(plt.MaxNLocator(integer=True))\n",
    "plt.savefig(f\"D:\\\\Research\\\\Project\\\\PROJECTS\\\\COVID-19\\\\污水\\\\update_fig\\\\k-mean_cluster_指标结果.pdf\", dpi=300) \n",
    "plt.show()"
   ]
  },
  {
   "cell_type": "markdown",
   "id": "967e9ecc",
   "metadata": {},
   "source": [
    "## c-h"
   ]
  },
  {
   "cell_type": "code",
   "execution_count": null,
   "id": "524a3d8c",
   "metadata": {
    "ExecuteTime": {
     "end_time": "2024-06-04T13:41:31.548796Z",
     "start_time": "2024-06-04T13:41:31.462129Z"
    }
   },
   "outputs": [],
   "source": [
    "from sklearn.cluster import AgglomerativeClustering\n",
    "\n",
    "clusters = []\n",
    "silhouette_scores2 = []\n",
    "davies_bouldin_scores2 = []\n",
    "adjusted_rand_scores2 = []\n",
    "cluster_dfs2 = []\n",
    "for i in np.arange(2,23,1):\n",
    "    # 聚类运算\n",
    "    cluster = AgglomerativeClustering(n_clusters= i , affinity='euclidean', linkage='ward').fit(dis_matrix)\n",
    "    clusters.append(cluster)\n",
    "    labels_true = np.array([0, 0, 0, 0, 0, 0, 0, 2, 1, 1, 1, 1, 1, 1, 1, 1, 1, 1, 1, 1, 1, 1, 1]) \n",
    "    labels = cluster.labels_\n",
    "    cluster_df = pd.DataFrame({'sample_id': clu_df.columns, 'cluster': cluster.labels_})\n",
    "    silhouette_scores2.append(silhouette_score(distances_matrix, labels))\n",
    "    davies_bouldin_scores2.append(davies_bouldin_score(distances_matrix, labels))\n",
    "    # 假设true_labels为数据的真实标签\n",
    "    adjusted_rand_scores2.append(adjusted_rand_score(labels_true, labels)) \n",
    "    cluster_dfs2.append(cluster_df)\n",
    "\n",
    "all_clusters2 = pd.concat(cluster_dfs2, keys=range(2,21))\n",
    "all_clusters2\n",
    "\n",
    "\n",
    "all_clusters2.to_csv('D:\\\\Research\\\\Project\\\\PROJECTS\\\\COVID-19\\\\污水\\\\result\\\\upgraded\\\\层次结果.csv')\n",
    "\n",
    "cc_index = pd.DataFrame({'silhouette_scores': silhouette_scores2, 'davies_bouldin_scores': davies_bouldin_scores2,\n",
    "                            'adjusted_rand_scores': adjusted_rand_scores2},index = np.arange(2,23,1))\n",
    "\n",
    "\n",
    "cc_index.to_csv('D:\\\\Research\\\\Project\\\\PROJECTS\\\\COVID-19\\\\污水\\\\result\\\\upgraded\\\\层次index.csv')"
   ]
  },
  {
   "cell_type": "code",
   "execution_count": null,
   "id": "96ce76a9",
   "metadata": {
    "ExecuteTime": {
     "end_time": "2024-06-04T13:42:03.242537Z",
     "start_time": "2024-06-04T13:42:03.107674Z"
    }
   },
   "outputs": [],
   "source": [
    "from scipy.cluster.hierarchy import dendrogram, linkage\n",
    "import matplotlib.pyplot as plt\n",
    "\n",
    "# 设置新罗马字体\n",
    "plt.rcParams['font.family'] = 'Times New Roman'\n",
    "plt.rcParams.update({'font.size': 30})\n",
    "plt.rcParams.update({'font.weight': 'bold'})\n",
    "\n",
    "# 假设 dis_matrix 是一个 DataFrame，且索引包含了样本名称\n",
    "Z = linkage(dis_matrix, 'ward')\n",
    "\n",
    "# 绘制树状图\n",
    "plt.figure(figsize=(10, 5))\n",
    "dendrogram(Z, labels=dis_matrix.index)\n",
    "\n",
    "plt.ylabel('Distance', fontname='Times New Roman', fontweight='bold', fontsize=35)\n",
    "\n",
    "plt.ylim(0, 105)\n",
    "\n",
    "# 设置横坐标标签旋转角度为90度\n",
    "plt.xticks(rotation=90, fontname='Times New Roman', fontweight='bold', fontsize=25)\n",
    "\n",
    "# 匹配循环变量 i 和 dis_matrix.index，并设置不同颜色\n",
    "for i, tick in enumerate(plt.gca().get_xticklabels()):\n",
    "    title_color = '#FF9282' if i == 7 else '#8099FF' if 8 <= i <= 14 else '#7CC8C5'\n",
    "    tick.set_color(title_color)\n",
    "    \n",
    "plt.savefig(f\"D:\\\\Research\\\\Project\\\\PROJECTS\\\\COVID-19\\\\污水\\\\version_2\\\\整体聚类.pdf\", dpi=600, bbox_inches='tight') \n",
    "plt.show()"
   ]
  },
  {
   "cell_type": "code",
   "execution_count": null,
   "id": "05d253eb",
   "metadata": {
    "ExecuteTime": {
     "end_time": "2024-06-04T13:42:17.498384Z",
     "start_time": "2024-06-04T13:42:16.957507Z"
    }
   },
   "outputs": [],
   "source": [
    "plt.figure(figsize=(15,15),dpi= 300) \n",
    "plt.plot(range(2, 23), silhouette_scores2, '#F1AC71',linewidth=6,marker='o')\n",
    "plt.plot(range(2, 23), davies_bouldin_scores2, '#784D9C',linewidth=6,marker='o') \n",
    "plt.plot(range(2, 23), adjusted_rand_scores2, '#186CB6',linewidth=6,marker='o')\n",
    "#plt.legend(['Silhouette Score', 'Davies-Bouldin Score','Adjusted Rand Score'])\n",
    "plt.xlabel('Number of clusters', fontdict={'fontsize':60, 'fontweight':'bold'})\n",
    "plt.ylabel('Values', fontdict={'fontsize':60, 'fontweight':'bold'})\n",
    "plt.xlim(2, 22)\n",
    "#plt.ylim(0, 1)\n",
    "ax = plt.gca() \n",
    "ax.xaxis.set_major_locator(plt.MaxNLocator(integer=True))\n",
    "plt.savefig(f\"D:\\\\Research\\\\Project\\\\PROJECTS\\\\COVID-19\\\\污水\\\\update_fig\\\\层次_分组指标.pdf\", dpi=300) "
   ]
  },
  {
   "cell_type": "markdown",
   "id": "946197be",
   "metadata": {},
   "source": [
    "# 8. Time-segment"
   ]
  },
  {
   "cell_type": "code",
   "execution_count": null,
   "id": "eaa96141",
   "metadata": {
    "ExecuteTime": {
     "end_time": "2024-09-05T02:29:32.109639Z",
     "start_time": "2024-09-05T02:29:32.101203Z"
    }
   },
   "outputs": [],
   "source": [
    "var_1 = weekly_data.loc['2023/2/26':'2023/4/16']  # BA.5.2\n",
    "var_2 = weekly_data.loc['2023/4/23':'2023/7/16']  # XBB and subvariants\n",
    "var_3 = weekly_data.loc['2023/7/23':'2023/10/22']  # EG.5\n",
    "\n",
    "var_1 = var_1.reset_index()\n",
    "var_2 = var_2.reset_index()\n",
    "var_3 = var_3.reset_index()"
   ]
  },
  {
   "cell_type": "markdown",
   "id": "f5e8391c",
   "metadata": {},
   "source": [
    "## 8.1 Standardized data"
   ]
  },
  {
   "cell_type": "code",
   "execution_count": null,
   "id": "3d7b0d14",
   "metadata": {
    "ExecuteTime": {
     "end_time": "2024-09-05T02:29:47.654164Z",
     "start_time": "2024-09-05T02:29:47.628238Z"
    }
   },
   "outputs": [],
   "source": [
    "new_row = pd.Series([0] * len(var_1.columns), index=var_1.columns).to_frame().T\n",
    "var_1 = pd.concat([var_1, new_row], ignore_index=True)\n",
    "var_1.loc[8, 'T'] = '2023/4/23'\n",
    "var_1 = var_1.set_index('T')\n",
    "\n",
    "new_row = pd.Series([0] * len(var_2.columns), index=var_2.columns).to_frame().T\n",
    "var_2 = pd.concat([var_2, new_row], ignore_index=True)\n",
    "var_2.loc[13, 'T'] = '2023/7/23'\n",
    "var_2 = var_2.set_index('T')\n",
    "\n",
    "# 标准化数据\n",
    "scaler = MinMaxScaler(feature_range=(0, 1))\n",
    "scaler.fit(var_1)\n",
    "var1_std_df = scaler.transform(var_1)\n",
    "var1_std_df = pd.DataFrame(var1_std_df, columns=var_1.columns)\n",
    "var1_std_df.index = var_1.index"
   ]
  },
  {
   "cell_type": "code",
   "execution_count": null,
   "id": "74272bea",
   "metadata": {
    "ExecuteTime": {
     "end_time": "2024-09-05T02:29:53.234219Z",
     "start_time": "2024-09-05T02:29:53.213984Z"
    }
   },
   "outputs": [],
   "source": [
    "scaler = MinMaxScaler(feature_range=(0, 1))\n",
    "scaler.fit(var_2) \n",
    "var2_std_df = scaler.transform(var_2)\n",
    "var2_std_df  = pd.DataFrame(var2_std_df , columns= var_2.columns)\n",
    "var2_std_df .index = var_2.index"
   ]
  },
  {
   "cell_type": "code",
   "execution_count": null,
   "id": "079b1a58",
   "metadata": {
    "ExecuteTime": {
     "end_time": "2024-09-05T02:29:54.145900Z",
     "start_time": "2024-09-05T02:29:54.133829Z"
    }
   },
   "outputs": [],
   "source": [
    "var_3 = var_3.set_index(['T'])\n",
    "scaler = MinMaxScaler(feature_range=(0, 1))\n",
    "scaler.fit(var_3) \n",
    "var3_std_df = scaler.transform(var_3)\n",
    "var3_std_df  = pd.DataFrame(var3_std_df , columns= var_3.columns)\n",
    "var3_std_df .index = var_3.index"
   ]
  },
  {
   "cell_type": "code",
   "execution_count": null,
   "id": "84010221",
   "metadata": {
    "ExecuteTime": {
     "end_time": "2024-09-05T02:29:54.806411Z",
     "start_time": "2024-09-05T02:29:54.798501Z"
    }
   },
   "outputs": [],
   "source": [
    "var1_std_df = var1_std_df.drop(var1_std_df.index[-1:])\n",
    "var2_std_df = var2_std_df.drop(var2_std_df.index[-1:])\n",
    "var3_std_df = var3_std_df.drop(var3_std_df.index[-1:])"
   ]
  },
  {
   "cell_type": "code",
   "execution_count": null,
   "id": "b54971b5",
   "metadata": {
    "ExecuteTime": {
     "end_time": "2024-09-05T02:29:55.303535Z",
     "start_time": "2024-09-05T02:29:55.293794Z"
    }
   },
   "outputs": [],
   "source": [
    "var1_std_df = var1_std_df.drop(var1_std_df.columns[-3:], axis=1)\n",
    "var2_std_df = var2_std_df.drop(var2_std_df.columns[-3:], axis=1)\n",
    "var3_std_df = var3_std_df.drop(var3_std_df.columns[-3:], axis=1)"
   ]
  },
  {
   "cell_type": "code",
   "execution_count": null,
   "id": "94f4936f",
   "metadata": {
    "ExecuteTime": {
     "end_time": "2024-06-04T13:44:11.053450Z",
     "start_time": "2024-06-04T13:44:08.429700Z"
    }
   },
   "outputs": [],
   "source": [
    "import datetime\n",
    "import matplotlib.dates as mdates\n",
    "\n",
    "#plt.figure(figsize=(20,20),dpi= 450)\n",
    "plt.rc('font',family='Times New Roman')\n",
    "plt.rcParams.update({'font.size': 43})\n",
    "\n",
    "num_columns = var1_std_df.shape[1]  # 获取列数\n",
    "num_rows = 5\n",
    "num_cols = min(5, num_columns)  # 动态设置子图的列数，最多为7\n",
    "\n",
    "fig, axes = plt.subplots(num_rows, num_cols, figsize=(30, 30), dpi=300)  # 创建包含指定行数和列数的子图的图形\n",
    "flatten_axes = axes.flatten()  # 将子图数组扁平化，以便通过索引访问每个子图\n",
    "\n",
    "for i, ax in enumerate(flatten_axes):\n",
    "    if i < num_columns:\n",
    "        column = var1_std_df[weekly_data.columns[:num_columns]].columns[i]\n",
    "        color = '#FF9282' if i == 7 else '#8099FF' if i < 7 else '#7CC8C5'  # 设置颜色\n",
    "        ax.bar(var1_std_df.index, var1_std_df[column], label=column, width=0.95, color=color)\n",
    "        ax.set_title(column, fontdict={'fontsize': 40, 'fontweight': 'bold'})\n",
    "        ax.set_ylim(-0.05,1.05)\n",
    "    if i // num_cols == num_rows - 1:\n",
    "            ax.tick_params(axis='x', labelsize=38) \n",
    "            #ax.xaxis.set_ticklabels(rotation=45)\n",
    "            ax.xaxis.set_major_locator(mdates.DayLocator(interval=4))  # 增大X轴ticks间隔\n",
    "            ax.set_xlabel('Time', fontdict={'fontsize':55, 'fontweight': 'bold'})\n",
    "    else:\n",
    "        ax.set_xticks([])  # 隐藏横坐标刻度\n",
    "\n",
    "\n",
    "        # 控制纵坐标刻度\n",
    "    if i % num_cols == 0:\n",
    "        ax.tick_params(axis='y', labelsize=38) \n",
    "        #ax.set_ylabel('Standard data', fontdict={'fontsize':55, 'fontweight': 'bold'})\n",
    "    else:\n",
    "        ax.set_yticks([])  # 不隐藏纵坐标刻度\n",
    "        \n",
    "\n",
    "plt.tight_layout()  # 调整子图之间的间距\n",
    "plt.savefig('D:\\\\Research\\\\Project\\\\PROJECTS\\\\COVID-19\\\\污水\\\\result\\\\plot_v2\\\\切片\\\\1段标化时间序列图.pdf', dpi=300)\n",
    "plt.show()"
   ]
  },
  {
   "cell_type": "code",
   "execution_count": null,
   "id": "3614ae66",
   "metadata": {
    "ExecuteTime": {
     "end_time": "2024-06-04T13:44:22.948448Z",
     "start_time": "2024-06-04T13:44:20.237520Z"
    }
   },
   "outputs": [],
   "source": [
    "num_columns = var2_std_df.shape[1]  # 获取列数\n",
    "num_rows = 5\n",
    "num_cols = min(5, num_columns)  # 动态设置子图的列数，最多为7\n",
    "\n",
    "fig, axes = plt.subplots(num_rows, num_cols, figsize=(30, 30), dpi=300)  # 创建包含指定行数和列数的子图的图形\n",
    "flatten_axes = axes.flatten()  # 将子图数组扁平化，以便通过索引访问每个子图\n",
    "\n",
    "for i, ax in enumerate(flatten_axes):\n",
    "    if i < num_columns:\n",
    "        column = var2_std_df[weekly_data.columns[:num_columns]].columns[i]\n",
    "        color = '#FF9282' if i == 7 else '#8099FF' if i < 7 else '#7CC8C5'  # 设置颜色\n",
    "        ax.bar(var2_std_df.index, var2_std_df[column], label=column, width=0.95, color=color)\n",
    "        ax.set_title(column, fontdict={'fontsize': 40, 'fontweight': 'bold'})\n",
    "        ax.set_ylim(-0.05,1.05)\n",
    "    if i // num_cols == num_rows - 1:\n",
    "            ax.tick_params(axis='x', labelsize=38) \n",
    "            #ax.xaxis.set_ticklabels(rotation=45)\n",
    "            ax.xaxis.set_major_locator(mdates.DayLocator(interval=8))  # 增大X轴ticks间隔\n",
    "            ax.set_xlabel('Time', fontdict={'fontsize':55, 'fontweight': 'bold'})\n",
    "    else:\n",
    "        ax.set_xticks([])  # 隐藏横坐标刻度\n",
    "\n",
    "\n",
    "        # 控制纵坐标刻度\n",
    "    if i % num_cols == 0:\n",
    "        ax.tick_params(axis='y', labelsize=38) \n",
    "        #ax.set_ylabel('Standard data', fontdict={'fontsize':55, 'fontweight': 'bold'})\n",
    "    else:\n",
    "        ax.set_yticks([])  # 不隐藏纵坐标刻度\n",
    "        \n",
    "\n",
    "plt.tight_layout()  # 调整子图之间的间距\n",
    "plt.savefig('D:\\\\Research\\\\Project\\\\PROJECTS\\\\COVID-19\\\\污水\\\\result\\\\plot_v2\\\\切片\\\\2段标化时间序列图.pdf', dpi=300)\n",
    "plt.show()"
   ]
  },
  {
   "cell_type": "code",
   "execution_count": null,
   "id": "80bfeb5a",
   "metadata": {
    "ExecuteTime": {
     "end_time": "2024-06-04T13:44:39.271779Z",
     "start_time": "2024-06-04T13:44:36.548482Z"
    }
   },
   "outputs": [],
   "source": [
    "num_columns = var3_std_df.shape[1]  # 获取列数\n",
    "num_rows = 5\n",
    "num_cols = min(5, num_columns)  # 动态设置子图的列数，最多为7\n",
    "\n",
    "fig, axes = plt.subplots(num_rows, num_cols, figsize=(30, 30), dpi=300)  # 创建包含指定行数和列数的子图的图形\n",
    "flatten_axes = axes.flatten()  # 将子图数组扁平化，以便通过索引访问每个子图\n",
    "\n",
    "for i, ax in enumerate(flatten_axes):\n",
    "    if i < num_columns:\n",
    "        column = var3_std_df[weekly_data.columns[:num_columns]].columns[i]\n",
    "        color = '#FF9282' if i == 7 else '#8099FF' if i < 7 else '#7CC8C5'  # 设置颜色\n",
    "        ax.bar(var3_std_df.index, var3_std_df[column], label=column, width=0.95, color=color)\n",
    "        ax.set_title(column, fontdict={'fontsize': 40, 'fontweight': 'bold'})\n",
    "        ax.set_ylim(-0.05,1.05)\n",
    "    if i // num_cols == num_rows - 1:\n",
    "            ax.tick_params(axis='x', labelsize=38) \n",
    "            #ax.xaxis.set_ticklabels(rotation=45)\n",
    "            ax.xaxis.set_major_locator(mdates.DayLocator(interval=8))  # 增大X轴ticks间隔\n",
    "            ax.set_xlabel('Time', fontdict={'fontsize':55, 'fontweight': 'bold'})\n",
    "    else:\n",
    "        ax.set_xticks([])  # 隐藏横坐标刻度\n",
    "\n",
    "\n",
    "        # 控制纵坐标刻度\n",
    "    if i % num_cols == 0:\n",
    "        ax.tick_params(axis='y', labelsize=38) \n",
    "        #ax.set_ylabel('Standard data', fontdict={'fontsize':55, 'fontweight': 'bold'})\n",
    "    else:\n",
    "        ax.set_yticks([])  # 不隐藏纵坐标刻度\n",
    "        \n",
    "\n",
    "plt.tight_layout()  # 调整子图之间的间距\n",
    "plt.savefig('D:\\\\Research\\\\Project\\\\PROJECTS\\\\COVID-19\\\\污水\\\\result\\\\plot_v2\\\\切片\\\\3段标化时间序列图.pdf', dpi=300)\n",
    "plt.show()"
   ]
  },
  {
   "cell_type": "markdown",
   "id": "7f179a1f",
   "metadata": {},
   "source": [
    "## 8.2 Correlation"
   ]
  },
  {
   "cell_type": "code",
   "execution_count": null,
   "id": "aaacf47b",
   "metadata": {
    "ExecuteTime": {
     "end_time": "2024-06-04T13:45:47.193214Z",
     "start_time": "2024-06-04T13:45:43.837538Z"
    }
   },
   "outputs": [],
   "source": [
    "corr = var1_std_df.corr()\n",
    "from scipy import stats\n",
    "# 计算p值矩阵\n",
    "p_matrix = np.ones_like(corr.values)\n",
    "for i in range(corr.shape[0]):\n",
    "    for j in range(corr.shape[1]):\n",
    "        if i == j:\n",
    "            continue\n",
    "        x = var1_std_df.iloc[:, i]\n",
    "        y = var1_std_df.iloc[:, j]\n",
    "        valid_idx = np.logical_and(np.isfinite(x), np.isfinite(y))\n",
    "        _, p = stats.pearsonr(x[valid_idx], y[valid_idx])\n",
    "        p_matrix[i, j] = p\n",
    "\n",
    "# 将p值矩阵转换为DataFrame\n",
    "p_df = pd.DataFrame(p_matrix, index=corr.index, columns=corr.columns)\n",
    "corr.to_excel('D:\\\\Research\\\\Project\\\\PROJECTS\\\\COVID-19\\\\污水\\\\result\\\\upgraded\\\\1段相关结果.xlsx')\n",
    "p_df .to_excel('D:\\\\Research\\\\Project\\\\PROJECTS\\\\COVID-19\\\\污水\\\\result\\\\upgraded\\\\1段相关统计学检验.xlsx')\n",
    "\n",
    "plt.rc('font', family='Times New Roman', weight='bold')\n",
    "plt.rcParams.update({'font.size': 50})\n",
    "\n",
    "plt.figure(figsize=(30, 30), dpi=300)\n",
    "mask = np.triu(np.ones_like(corr, dtype=bool))\n",
    "ax = sns.heatmap(corr, cmap='RdBu', cbar_kws={\"shrink\": 0.5}, square=True, linewidths=0.5, fmt=\".2f\", vmin = -1, vmax =1, mask=mask)\n",
    "# 设置 x 和 y 轴标签的颜色\n",
    "for i, tick in enumerate(ax.get_xticklabels()):\n",
    "    title_color = '#FF9282' if i == 7 else '#8099FF' if i < 7 else '#7CC8C5'\n",
    "    tick.set_color(title_color)\n",
    "    \n",
    "for i, tick in enumerate(ax.get_yticklabels()):\n",
    "    title_color = '#FF9282' if i == 7 else '#8099FF' if i < 7 else '#7CC8C5'\n",
    "    tick.set_color(title_color)\n",
    "plt.savefig('D:\\\\Research\\\\Project\\\\PROJECTS\\\\COVID-19\\\\污水\\\\version_2\\\\相关一段.pdf', dpi=300)\n",
    "plt.show()"
   ]
  },
  {
   "cell_type": "code",
   "execution_count": null,
   "id": "f3846fab",
   "metadata": {
    "ExecuteTime": {
     "end_time": "2024-06-04T13:46:13.963509Z",
     "start_time": "2024-06-04T13:46:10.965259Z"
    }
   },
   "outputs": [],
   "source": [
    "plt.rc('font', family='Times New Roman', weight='bold')\n",
    "plt.rcParams.update({'font.size': 50})\n",
    "\n",
    "plt.figure(figsize=(30, 30), dpi=300)\n",
    "ax = sns.heatmap(p_df, cmap='RdPu', cbar_kws={\"shrink\": 0.5}, square=True, linewidths=0.5,  annot=False, vmin=0, vmax=1, mask=mask)\n",
    "\n",
    "\n",
    "# 标记p小于0.05的值为'*'\n",
    "for i in range(p_df.shape[0]):\n",
    "    for j in range(p_df.shape[1]):\n",
    "        if p_df.values[i, j] < 0.05 and mask[i, j]:\n",
    "            ax.annotate('*', xy=(i + 0.5, j + 0.5), color='black', ha='center', va='center')\n",
    "# 设置 x 和 y 轴标签的颜色\n",
    "for i, tick in enumerate(ax.get_xticklabels()):\n",
    "    title_color = '#FF9282' if i == 7 else '#8099FF' if i < 7 else '#7CC8C5'\n",
    "    tick.set_color(title_color)\n",
    "    \n",
    "for i, tick in enumerate(ax.get_yticklabels()):\n",
    "    title_color = '#FF9282' if i == 7 else '#8099FF' if i < 7 else '#7CC8C5'\n",
    "    tick.set_color(title_color)\n",
    "# 在图下方添加文本注释\n",
    "plt.text(0, -0.43, \"* : p < 0.05\", ha='center', va='center', transform=ax.transAxes, fontsize=60)\n",
    "plt.savefig('D:\\\\Research\\\\Project\\\\PROJECTS\\\\COVID-19\\\\污水\\\\version_2\\\\相关一段统计学结果.pdf', dpi=300, bbox_inches='tight')\n",
    "plt.show()"
   ]
  },
  {
   "cell_type": "code",
   "execution_count": null,
   "id": "7c3b1e8a",
   "metadata": {
    "ExecuteTime": {
     "end_time": "2024-06-04T13:46:25.476149Z",
     "start_time": "2024-06-04T13:46:22.652998Z"
    }
   },
   "outputs": [],
   "source": [
    "plt.rc('font', family='Times New Roman', weight='bold')\n",
    "plt.rcParams.update({'font.size': 25})\n",
    "\n",
    "plt.figure(figsize=(30, 30), dpi=300)\n",
    "mask = np.triu(np.ones_like(corr, dtype=bool))\n",
    "ax = sns.heatmap(corr, cmap='RdBu', cbar_kws={\"shrink\": 0.5}, annot=True, square=True, linewidths=0.5, fmt=\".2f\", vmin = -1, vmax =1)"
   ]
  },
  {
   "cell_type": "code",
   "execution_count": null,
   "id": "e589a0fd",
   "metadata": {
    "ExecuteTime": {
     "end_time": "2024-06-04T13:46:38.611972Z",
     "start_time": "2024-06-04T13:46:35.173429Z"
    }
   },
   "outputs": [],
   "source": [
    "corr = var2_std_df.corr()\n",
    "\n",
    "# 计算p值矩阵\n",
    "p_matrix = np.ones_like(corr.values)\n",
    "for i in range(corr.shape[0]):\n",
    "    for j in range(corr.shape[1]):\n",
    "        if i == j:\n",
    "            continue\n",
    "        x = var2_std_df.iloc[:, i]\n",
    "        y = var2_std_df.iloc[:, j]\n",
    "        valid_idx = np.logical_and(np.isfinite(x), np.isfinite(y))\n",
    "        _, p = stats.pearsonr(x[valid_idx], y[valid_idx])\n",
    "        p_matrix[i, j] = p\n",
    "\n",
    "# 将p值矩阵转换为DataFrame\n",
    "p_df = pd.DataFrame(p_matrix, index=corr.index, columns=corr.columns)\n",
    "corr.to_excel('D:\\\\Research\\\\Project\\\\PROJECTS\\\\COVID-19\\\\污水\\\\result\\\\upgraded\\\\2段相关结果.xlsx')\n",
    "p_df .to_excel('D:\\\\Research\\\\Project\\\\PROJECTS\\\\COVID-19\\\\污水\\\\result\\\\upgraded\\\\2段相关统计学检验.xlsx')\n",
    "\n",
    "\n",
    "plt.rc('font', family='Times New Roman', weight='bold')\n",
    "plt.rcParams.update({'font.size': 50})\n",
    "\n",
    "plt.figure(figsize=(30, 30), dpi=300)\n",
    "mask = np.triu(np.ones_like(corr, dtype=bool))\n",
    "ax = sns.heatmap(corr, cmap='RdBu', cbar_kws={\"shrink\": 0.5}, square=True, linewidths=0.5, fmt=\".2f\", vmin = -1, vmax =1, mask=mask)\n",
    "# 设置 x 和 y 轴标签的颜色\n",
    "for i, tick in enumerate(ax.get_xticklabels()):\n",
    "    title_color = '#FF9282' if i == 7 else '#8099FF' if i < 7 else '#7CC8C5'\n",
    "    tick.set_color(title_color)\n",
    "    \n",
    "for i, tick in enumerate(ax.get_yticklabels()):\n",
    "    title_color = '#FF9282' if i == 7 else '#8099FF' if i < 7 else '#7CC8C5'\n",
    "    tick.set_color(title_color)\n",
    "plt.savefig('D:\\\\Research\\\\Project\\\\PROJECTS\\\\COVID-19\\\\污水\\\\version_2\\\\相关二段.pdf', dpi=300)\n",
    "plt.show()"
   ]
  },
  {
   "cell_type": "code",
   "execution_count": null,
   "id": "d398f04e",
   "metadata": {
    "ExecuteTime": {
     "end_time": "2024-06-04T13:46:59.181365Z",
     "start_time": "2024-06-04T13:46:55.863498Z"
    }
   },
   "outputs": [],
   "source": [
    "plt.rc('font', family='Times New Roman', weight='bold')\n",
    "plt.rcParams.update({'font.size': 50})\n",
    "\n",
    "plt.figure(figsize=(30, 30), dpi=300)\n",
    "ax = sns.heatmap(p_df, cmap='RdPu', cbar_kws={\"shrink\": 0.5}, square=True, linewidths=0.5,  annot=False, vmin=0, vmax=1, mask=mask)\n",
    "\n",
    "\n",
    "# 标记p小于0.05的值为'*'\n",
    "for i in range(p_df.shape[0]):\n",
    "    for j in range(p_df.shape[1]):\n",
    "        if p_df.values[i, j] < 0.05 and mask[i, j]:\n",
    "            ax.annotate('*', xy=(i + 0.5, j + 0.5), color='black', ha='center', va='center')\n",
    "# 设置 x 和 y 轴标签的颜色\n",
    "for i, tick in enumerate(ax.get_xticklabels()):\n",
    "    title_color = '#FF9282' if i == 7 else '#8099FF' if i < 7 else '#7CC8C5'\n",
    "    tick.set_color(title_color)\n",
    "    \n",
    "for i, tick in enumerate(ax.get_yticklabels()):\n",
    "    title_color = '#FF9282' if i == 7 else '#8099FF' if i < 7 else '#7CC8C5'\n",
    "    tick.set_color(title_color)\n",
    "# 在图下方添加文本注释\n",
    "plt.text(0, -0.43, \"* : p < 0.05\", ha='center', va='center', transform=ax.transAxes, fontsize=60)\n",
    "plt.savefig('D:\\\\Research\\\\Project\\\\PROJECTS\\\\COVID-19\\\\污水\\\\version_2\\\\相关二段统计学结果.pdf', dpi=300, bbox_inches='tight')\n",
    "plt.show()"
   ]
  },
  {
   "cell_type": "code",
   "execution_count": null,
   "id": "5317e3d0",
   "metadata": {
    "ExecuteTime": {
     "end_time": "2024-06-04T13:47:14.752852Z",
     "start_time": "2024-06-04T13:47:12.093259Z"
    }
   },
   "outputs": [],
   "source": [
    "plt.rc('font', family='Times New Roman', weight='bold')\n",
    "plt.rcParams.update({'font.size': 25})\n",
    "\n",
    "plt.figure(figsize=(30, 30), dpi=300)\n",
    "mask = np.triu(np.ones_like(corr, dtype=bool))\n",
    "ax = sns.heatmap(corr, cmap='RdBu', cbar_kws={\"shrink\": 0.5}, annot=True, square=True, linewidths=0.5, fmt=\".2f\", vmin = -1, vmax =1)"
   ]
  },
  {
   "cell_type": "code",
   "execution_count": null,
   "id": "9781a2a3",
   "metadata": {
    "ExecuteTime": {
     "end_time": "2024-06-04T13:47:34.224734Z",
     "start_time": "2024-06-04T13:47:30.541160Z"
    }
   },
   "outputs": [],
   "source": [
    "corr = var3_std_df.corr()\n",
    "\n",
    "# 计算p值矩阵\n",
    "p_matrix = np.ones_like(corr.values)\n",
    "for i in range(corr.shape[0]):\n",
    "    for j in range(corr.shape[1]):\n",
    "        if i == j:\n",
    "            continue\n",
    "        x = var3_std_df.iloc[:, i]\n",
    "        y = var3_std_df.iloc[:, j]\n",
    "        valid_idx = np.logical_and(np.isfinite(x), np.isfinite(y))\n",
    "        _, p = stats.pearsonr(x[valid_idx], y[valid_idx])\n",
    "        p_matrix[i, j] = p\n",
    "\n",
    "# 将p值矩阵转换为DataFrame\n",
    "p_df = pd.DataFrame(p_matrix, index=corr.index, columns=corr.columns)\n",
    "corr.to_excel('D:\\\\Research\\\\Project\\\\PROJECTS\\\\COVID-19\\\\污水\\\\result\\\\upgraded\\\\3段相关结果.xlsx')\n",
    "p_df .to_excel('D:\\\\Research\\\\Project\\\\PROJECTS\\\\COVID-19\\\\污水\\\\result\\\\upgraded\\\\3段相关统计学检验.xlsx')\n",
    "\n",
    "\n",
    "plt.rc('font', family='Times New Roman', weight='bold')\n",
    "plt.rcParams.update({'font.size': 50})\n",
    "\n",
    "plt.figure(figsize=(30, 30), dpi=300)\n",
    "mask = np.triu(np.ones_like(corr, dtype=bool))\n",
    "ax = sns.heatmap(corr, cmap='RdBu', cbar_kws={\"shrink\": 0.5}, square=True, linewidths=0.5, fmt=\".2f\", vmin = -1, vmax =1, mask=mask)\n",
    "# 设置 x 和 y 轴标签的颜色\n",
    "for i, tick in enumerate(ax.get_xticklabels()):\n",
    "    title_color = '#FF9282' if i == 7 else '#8099FF' if i < 7 else '#7CC8C5'\n",
    "    tick.set_color(title_color)\n",
    "    \n",
    "for i, tick in enumerate(ax.get_yticklabels()):\n",
    "    title_color = '#FF9282' if i == 7 else '#8099FF' if i < 7 else '#7CC8C5'\n",
    "    tick.set_color(title_color)\n",
    "plt.savefig('D:\\\\Research\\\\Project\\\\PROJECTS\\\\COVID-19\\\\污水\\\\version_2\\\\相关三段.pdf', dpi=300)\n",
    "plt.show()"
   ]
  },
  {
   "cell_type": "code",
   "execution_count": null,
   "id": "11c02149",
   "metadata": {
    "ExecuteTime": {
     "end_time": "2024-06-04T13:48:02.849856Z",
     "start_time": "2024-06-04T13:47:58.613249Z"
    }
   },
   "outputs": [],
   "source": [
    "plt.rc('font', family='Times New Roman', weight='bold')\n",
    "plt.rcParams.update({'font.size': 50})\n",
    "\n",
    "plt.figure(figsize=(30, 30), dpi=300)\n",
    "ax = sns.heatmap(p_df, cmap='RdPu', cbar_kws={\"shrink\": 0.5}, square=True, linewidths=0.5,  annot=False, vmin=0, vmax=1, mask=mask)\n",
    "\n",
    "\n",
    "# 标记p小于0.05的值为'*'\n",
    "for i in range(p_df.shape[0]):\n",
    "    for j in range(p_df.shape[1]):\n",
    "        if p_df.values[i, j] < 0.05 and mask[i, j]:\n",
    "            ax.annotate('*', xy=(i + 0.5, j + 0.5), color='black', ha='center', va='center')\n",
    "# 设置 x 和 y 轴标签的颜色\n",
    "for i, tick in enumerate(ax.get_xticklabels()):\n",
    "    title_color = '#FF9282' if i == 7 else '#8099FF' if i < 7 else '#7CC8C5'\n",
    "    tick.set_color(title_color)\n",
    "    \n",
    "for i, tick in enumerate(ax.get_yticklabels()):\n",
    "    title_color = '#FF9282' if i == 7 else '#8099FF' if i < 7 else '#7CC8C5'\n",
    "    tick.set_color(title_color)\n",
    "# 在图下方添加文本注释\n",
    "plt.text(0, -0.43, \"* : p < 0.05\", ha='center', va='center', transform=ax.transAxes, fontsize=60)\n",
    "plt.savefig('D:\\\\Research\\\\Project\\\\PROJECTS\\\\COVID-19\\\\污水\\\\version_2\\\\相关三段统计学结果.pdf', dpi=300, bbox_inches='tight')\n",
    "plt.show()"
   ]
  },
  {
   "cell_type": "code",
   "execution_count": null,
   "id": "abcdd60b",
   "metadata": {
    "ExecuteTime": {
     "end_time": "2024-06-04T13:48:04.803225Z",
     "start_time": "2024-06-04T13:48:02.849856Z"
    }
   },
   "outputs": [],
   "source": [
    "plt.rc('font', family='Times New Roman', weight='bold')\n",
    "plt.rcParams.update({'font.size': 25})\n",
    "plt.figure(figsize=(20, 20), dpi=300)\n",
    "ax = sns.heatmap(corr,  cmap='RdBu', cbar_kws={\"shrink\": 0.5}, annot=True, square=True, linewidths=0.5, fmt=\".2f\", vmin=-1, vmax=1, annot_kws={\"size\": 15})\n",
    "\n",
    "# 显示图形\n",
    "plt.show()"
   ]
  },
  {
   "cell_type": "markdown",
   "id": "26636f71",
   "metadata": {},
   "source": [
    "## 8.3  Lead-lag correlation"
   ]
  },
  {
   "cell_type": "code",
   "execution_count": null,
   "id": "b75aa733",
   "metadata": {
    "ExecuteTime": {
     "end_time": "2024-09-05T02:47:43.055931Z",
     "start_time": "2024-09-05T02:45:45.096976Z"
    }
   },
   "outputs": [],
   "source": [
    "corrs = [] #max_r\n",
    "ns = []  #max_p\n",
    "ps = []#max_n\n",
    "\n",
    "\n",
    "fig, axes = plt.subplots(23, 23, figsize=(90, 90), dpi=300)  # 创建包含23行23列子图的图形\n",
    "\n",
    "for i, col1 in enumerate(var1_std_df.columns):\n",
    "    for j, col2 in enumerate(var1_std_df.columns):\n",
    "        x1 = var1_std_df[col1]\n",
    "        x2 = var1_std_df[col2]  \n",
    "        r = leadlagcor(x1, x2, 3)[0]  #r\n",
    "        p = leadlagcor(x1, x2, 3)[1]  #p\n",
    "        pmax = leadlagcor(x1, x2, 3)[4] #max_n\n",
    "        corr = leadlagcor(x1, x2, 3)[3] #max_r\n",
    "        n = leadlagcor(x1, x2, 3)[2]  #max_p\n",
    "        \n",
    "        corrs.append(corr)\n",
    "        ns.append(n)\n",
    "        ps.append(pmax)\n",
    "        \n",
    "        x = range(-3, 3 + 1, 1)\n",
    "        \n",
    "        ax = axes[i, j]\n",
    "        ax.plot(x, r, '#7CC8C5', linewidth=9, linestyle='dotted')\n",
    "        ax.set_ylim(-1.05,1.05)\n",
    "        ax.set_xlim(-4, 4)\n",
    "        ax.axhline(0, color='k')\n",
    "        bx = ax.bar(x, np.squeeze(r), color='#FF9282', width=0.95)\n",
    "        \n",
    "        ax.set_ylabel(col1, fontsize=20, fontweight = 'bold')\n",
    "        ax.set_title(col2, fontsize=20, fontweight = 'bold',pad=20)\n",
    "        \n",
    "        for idx, (bar, height) in enumerate(zip(bx, r)):\n",
    "            if height >= 0:\n",
    "                bar.set(color='#FF9282', width=0.95)\n",
    "            else:\n",
    "                bar.set(color='#8099FF', width=0.93)\n",
    "                \n",
    "            if p[idx] < 0.05:\n",
    "                ax.annotate('*', xy=(x[idx], height), \n",
    "                           ha='center', va='bottom', color='black',fontsize=20)\n",
    "            \n",
    "        #plt.setp(ax.get_xticklabels(), visible=False)\n",
    "        #plt.setp(ax.get_yticklabels(), visible=False)\n",
    "        #ax.set_xticks([])\n",
    "        #ax.set_yticks([])\n",
    "plt.tight_layout()  # 调整子图之间的间距\n",
    "plt.savefig('D:\\\\Research\\\\Project\\\\PROJECTS\\\\COVID-19\\\\污水\\\\manuscript_new\\\\manuscript\\\\Supplementary Material\\\\Fig S7.pdf', dpi=300)\n",
    "plt.show()\n",
    "\n",
    "corr_matrix = np.array(corrs).reshape(23, 23)\n",
    "corr_matrix = pd.DataFrame(corr_matrix, index=var1_std_df.columns, columns=var1_std_df.columns)\n",
    "\n",
    "corr_sta_matrix = np.array(ps).reshape(23, 23)\n",
    "corr_sta_matrix = pd.DataFrame(corr_sta_matrix, index=var1_std_df.columns, columns=var1_std_df.columns)\n",
    "\n",
    "lag_matrix = np.array(ns).reshape(23, 23)\n",
    "lag_matrix = pd.DataFrame(lag_matrix, index=var1_std_df.columns, columns=var1_std_df.columns)\n",
    "\n",
    "#corr_matrix.to_excel('D:\\\\Research\\\\Project\\\\PROJECTS\\\\COVID-19\\\\污水\\\\result\\\\upgraded\\\\1段超前滞后结果.xlsx')\n",
    "#corr_sta_matrix.to_excel('D:\\\\Research\\\\Project\\\\PROJECTS\\\\COVID-19\\\\污水\\\\result\\\\upgraded\\\\1段超前滞后阶数统计学结果.xlsx')\n",
    "#lag_matrix.to_excel('D:\\\\Research\\\\Project\\\\PROJECTS\\\\COVID-19\\\\污水\\\\result\\\\upgraded\\\\1段超前滞后阶数.xlsx')            "
   ]
  },
  {
   "cell_type": "code",
   "execution_count": null,
   "id": "3b98a37e",
   "metadata": {
    "ExecuteTime": {
     "end_time": "2024-06-04T13:50:54.822972Z",
     "start_time": "2024-06-04T13:50:50.806491Z"
    }
   },
   "outputs": [],
   "source": [
    "plt.rc('font', family='Times New Roman', weight='bold')\n",
    "plt.rcParams.update({'font.size': 50})\n",
    "\n",
    "plt.figure(figsize=(30, 30), dpi=300)\n",
    "ax = sns.heatmap(corr_matrix, cmap='RdBu', cbar_kws={\"shrink\": 0.5}, square=True, linewidths=0.5, fmt=\".2f\", vmin = -1, vmax =1,mask = mask)\n",
    "\n",
    "# 设置 x 和 y 轴标签的颜色\n",
    "for i, tick in enumerate(ax.get_xticklabels()):\n",
    "    title_color = '#FF9282' if i == 7 else '#8099FF' if i < 7 else '#7CC8C5'\n",
    "    tick.set_color(title_color)\n",
    "    \n",
    "for i, tick in enumerate(ax.get_yticklabels()):\n",
    "    title_color = '#FF9282' if i == 7 else '#8099FF' if i < 7 else '#7CC8C5'\n",
    "    tick.set_color(title_color)\n",
    "plt.savefig(f\"D:\\\\Research\\\\Project\\\\PROJECTS\\\\COVID-19\\\\污水\\\\version_2\\\\超前滞后相关一段结果.pdf\", dpi=450, bbox_inches='tight')\n",
    "plt.show()"
   ]
  },
  {
   "cell_type": "code",
   "execution_count": null,
   "id": "4f39ef26",
   "metadata": {
    "ExecuteTime": {
     "end_time": "2024-06-04T13:50:58.818267Z",
     "start_time": "2024-06-04T13:50:54.822972Z"
    }
   },
   "outputs": [],
   "source": [
    "plt.rc('font', family='Times New Roman', weight='bold')\n",
    "plt.rcParams.update({'font.size': 50})\n",
    "\n",
    "plt.figure(figsize=(30, 30), dpi=300)\n",
    "ax = sns.heatmap(corr_sta_matrix, cmap='RdPu', cbar_kws={\"shrink\": 0.5}, square=True, linewidths=0.5, fmt=\".2f\", vmin=0, vmax=1,mask=mask)\n",
    "\n",
    "# 标记p小于0.05的值为'*'\n",
    "for i in range(corr_sta_matrix.shape[0]):\n",
    "    for j in range(corr_sta_matrix.shape[1]):\n",
    "        if corr_sta_matrix.values[i, j] < 0.05 and mask[i, j]:\n",
    "            ax.annotate('*', xy=(i + 0.5, j + 0.5), color='black', ha='center', va='center')\n",
    "# 设置 x 和 y 轴标签的颜色\n",
    "for i, tick in enumerate(ax.get_xticklabels()):\n",
    "    title_color = '#FF9282' if i == 7 else '#8099FF' if i < 7 else '#7CC8C5'\n",
    "    tick.set_color(title_color)\n",
    "    \n",
    "for i, tick in enumerate(ax.get_yticklabels()):\n",
    "    title_color = '#FF9282' if i == 7 else '#8099FF' if i < 7 else '#7CC8C5'\n",
    "    tick.set_color(title_color)\n",
    "# 在图下方添加文本注释\n",
    "plt.text(0, -0.43, \"* : p < 0.05\", ha='center', va='center', transform=ax.transAxes, fontsize=50)\n",
    "\n",
    "plt.savefig('D:\\\\Research\\\\Project\\\\PROJECTS\\\\COVID-19\\\\污水\\\\version_2\\\\超前滞后相关一段统计学结果.pdf', dpi=300, bbox_inches='tight')\n",
    "plt.show()"
   ]
  },
  {
   "cell_type": "code",
   "execution_count": null,
   "id": "4b9ec3ff",
   "metadata": {
    "ExecuteTime": {
     "end_time": "2024-06-04T13:51:04.017502Z",
     "start_time": "2024-06-04T13:50:58.818267Z"
    }
   },
   "outputs": [],
   "source": [
    "plt.rcParams.update({'font.size': 50})\n",
    "plt.figure(figsize=(30, 30), dpi=300)\n",
    "ax = sns.heatmap(lag_matrix, cmap=\"coolwarm\",  annot=True, cbar_kws={\"shrink\": 0.5}, square=True, linewidths=0.5, fmt=\".0f\", vmin = -6, vmax =6)\n",
    "\n",
    "# 设置 x 和 y 轴标签的颜色\n",
    "for i, tick in enumerate(ax.get_xticklabels()):\n",
    "    title_color = '#FF9282' if i == 7 else '#8099FF' if i < 7 else '#7CC8C5'\n",
    "    tick.set_color(title_color)\n",
    "    \n",
    "for i, tick in enumerate(ax.get_yticklabels()):\n",
    "    title_color = '#FF9282' if i == 7 else '#8099FF' if i < 7 else '#7CC8C5'\n",
    "    tick.set_color(title_color)\n",
    "plt.savefig(f\"D:\\\\Research\\\\Project\\\\PROJECTS\\\\COVID-19\\\\污水\\\\version_2\\\\超前滞后阶数一段结果.pdf\", dpi=450, bbox_inches='tight')    \n",
    "plt.show()"
   ]
  },
  {
   "cell_type": "code",
   "execution_count": null,
   "id": "17eb7268",
   "metadata": {
    "ExecuteTime": {
     "end_time": "2024-06-04T13:51:06.753102Z",
     "start_time": "2024-06-04T13:51:04.019536Z"
    }
   },
   "outputs": [],
   "source": [
    "plt.rc('font', family='Times New Roman', weight='bold')\n",
    "plt.rcParams.update({'font.size': 16})\n",
    "# 创建4x6的子图网格\n",
    "fig, axes = plt.subplots(4, 6, figsize=(20, 15))\n",
    "\n",
    "# 扁平化axes数组，方便迭代\n",
    "axes = axes.flatten()\n",
    "Area_df = pd.DataFrame(columns= ['S>0', 'S<0', 'S=0'])\n",
    "# 绘制每一行数据的概率分布图\n",
    "for i, ax in enumerate(axes):\n",
    "    if i < len(lag_matrix):\n",
    "        if i == 7:\n",
    "            title_color = '#FF9282'\n",
    "        elif i < 7:\n",
    "            title_color = '#8099FF'\n",
    "        else:\n",
    "            title_color = '#7CC8C5'\n",
    "        title_font = {'fontsize':20, 'fontweight': 'bold'} \n",
    "        ax.axvline(x=0, color='black', linestyle='--',alpha = 0.6)\n",
    "        \n",
    "        data = lag_matrix.iloc[i]\n",
    "      \n",
    "        data = data.drop(data.index[i])\n",
    "        \n",
    "        sns.kdeplot(data, ax=ax, fill=True, color=title_color,linewidth = 2)\n",
    "        ax.set_xlim(-3,3)\n",
    "        ax.set_ylim(0,2)\n",
    "        ax.set_title(lag_matrix.index[i], fontdict=title_font)\n",
    "        ax.set_xlabel('')\n",
    "        ax.set_ylabel('')\n",
    "        # 计算 KDE\n",
    "        # 计算 KDE\n",
    "        kde = gaussian_kde(data)\n",
    "        \n",
    "        # 定义积分函数\n",
    "        def kde_function(x):\n",
    "            return kde(x)\n",
    "        \n",
    "        # 计算大于0的面积\n",
    "        area_greater_than_0, _ = quad(kde_function, 0, np.inf)\n",
    "        \n",
    "        # 计算小于0的面积\n",
    "        area_less_than_0, _ = quad(kde_function, -np.inf, 0)\n",
    "        \n",
    "        # 计算等于0的面积（实际上是一个点，面积为0）\n",
    "        area_equal_to_0 = kde(0) * 0  # 面积为0\n",
    "        \n",
    "        # 将结果保存到 DataFrame 中\n",
    "        Area_df = Area_df.append({\n",
    "            'Names': lag_matrix.index[i],\n",
    "            'S>0': area_greater_than_0,\n",
    "            'S<0': area_less_than_0,\n",
    "            'S=0': area_equal_to_0\n",
    "        }, ignore_index=True)\n",
    "    else:\n",
    "        # 隐藏多余的子图\n",
    "        ax.axis('off')\n",
    "\n",
    "plt.tight_layout()\n",
    "plt.savefig(f\"D:\\\\Research\\\\Project\\\\PROJECTS\\\\COVID-19\\\\污水\\\\res补\\\\1段超前滞后相关分布图.pdf\", dpi=450, bbox_inches='tight')\n",
    "Area_df.to_excel(\"D:\\\\Research\\\\Project\\\\PROJECTS\\\\COVID-19\\\\污水\\\\res补\\\\1段超前滞后面积.xlsx\")\n",
    "# 显示图形\n",
    "plt.show()"
   ]
  },
  {
   "cell_type": "code",
   "execution_count": null,
   "id": "d4e5d8af",
   "metadata": {
    "ExecuteTime": {
     "end_time": "2024-09-05T02:51:02.227603Z",
     "start_time": "2024-09-05T02:48:56.394297Z"
    }
   },
   "outputs": [],
   "source": [
    "corrs = [] #max_r\n",
    "ns = []  #max_p\n",
    "ps = []#max_n\n",
    "fig, axes = plt.subplots(23, 23, figsize=(90, 90), dpi=300)  # 创建包含23行23列子图的图形\n",
    "\n",
    "for i, col1 in enumerate(var2_std_df.columns):\n",
    "    for j, col2 in enumerate(var2_std_df.columns):\n",
    "        x1 = var2_std_df[col1]\n",
    "        x2 = var2_std_df[col2]  \n",
    "        r = leadlagcor(x1, x2, 3)[0]  #r\n",
    "        p = leadlagcor(x1, x2, 3)[1]  #p\n",
    "        pmax = leadlagcor(x1, x2, 3)[4] #max_n\n",
    "        corr = leadlagcor(x1, x2, 3)[3] #max_r\n",
    "        n = leadlagcor(x1, x2, 3)[2]  #max_p\n",
    "        \n",
    "        corrs.append(corr)\n",
    "        ns.append(n)\n",
    "        ps.append(pmax)\n",
    "        \n",
    "        x = range(-3, 3 + 1, 1)\n",
    "        \n",
    "        ax = axes[i, j]\n",
    "        ax.plot(x, r, '#7CC8C5', linewidth=9, linestyle='dotted')\n",
    "        ax.set_ylim(-1.05,1.05)\n",
    "        ax.set_xlim(-4, 4)\n",
    "        ax.axhline(0, color='k')\n",
    "        bx = ax.bar(x, np.squeeze(r), color='#FF9282', width=0.95)\n",
    "        ax.set_ylabel(col1, fontsize=20, fontweight = 'bold')\n",
    "        ax.set_title(col2, fontsize=20, fontweight = 'bold',pad=20)\n",
    "        for idx, (bar, height) in enumerate(zip(bx, r)):\n",
    "            if height >= 0:\n",
    "                bar.set(color='#FF9282', width=0.95)\n",
    "            else:\n",
    "                bar.set(color='#8099FF', width=0.93)\n",
    "                \n",
    "            if p[idx] < 0.05:\n",
    "                ax.annotate('*', xy=(x[idx], height-0.02), \n",
    "                            ha='center', va='bottom', color='black',fontsize=20)\n",
    "            \n",
    "        #plt.setp(ax.get_xticklabels(), visible=False)\n",
    "        #plt.setp(ax.get_yticklabels(), visible=False)\n",
    "        #ax.set_xticks([])\n",
    "        #ax.set_yticks([])\n",
    "plt.tight_layout()  # 调整子图之间的间距\n",
    "plt.savefig('D:\\\\Research\\\\Project\\\\PROJECTS\\\\COVID-19\\\\污水\\\\manuscript_new\\\\manuscript\\\\Supplementary Material\\\\Fig S8.pdf', dpi=300)\n",
    "plt.show()\n",
    "\n",
    "corr_matrix = np.array(corrs).reshape(23, 23)\n",
    "corr_matrix = pd.DataFrame(corr_matrix, index=var2_std_df.columns, columns=var2_std_df.columns)\n",
    "\n",
    "corr_sta_matrix = np.array(ps).reshape(23, 23)\n",
    "corr_sta_matrix = pd.DataFrame(corr_sta_matrix, index=var2_std_df.columns, columns=var2_std_df.columns)\n",
    "\n",
    "lag_matrix = np.array(ns).reshape(23, 23)\n",
    "lag_matrix = pd.DataFrame(lag_matrix, index=var2_std_df.columns, columns=var2_std_df.columns)\n",
    "\n",
    "#corr_matrix.to_excel('D:\\\\Research\\\\Project\\\\PROJECTS\\\\COVID-19\\\\污水\\\\result\\\\upgraded\\\\2段超前滞后结果.xlsx')\n",
    "#corr_sta_matrix.to_excel('D:\\\\Research\\\\Project\\\\PROJECTS\\\\COVID-19\\\\污水\\\\result\\\\upgraded\\\\2段超前滞后阶数统计学结果.xlsx')\n",
    "#lag_matrix.to_excel('D:\\\\Research\\\\Project\\\\PROJECTS\\\\COVID-19\\\\污水\\\\result\\\\upgraded\\\\2段超前滞后阶数.xlsx')            "
   ]
  },
  {
   "cell_type": "code",
   "execution_count": null,
   "id": "cac6d132",
   "metadata": {
    "ExecuteTime": {
     "end_time": "2024-06-04T13:53:20.083214Z",
     "start_time": "2024-06-04T13:53:15.973751Z"
    }
   },
   "outputs": [],
   "source": [
    "plt.rc('font', family='Times New Roman', weight='bold')\n",
    "plt.rcParams.update({'font.size': 50})\n",
    "\n",
    "plt.figure(figsize=(30, 30), dpi=300)\n",
    "ax = sns.heatmap(corr_matrix, cmap='RdBu', cbar_kws={\"shrink\": 0.5}, square=True, linewidths=0.5, fmt=\".2f\", vmin = -1, vmax =1,mask = mask)\n",
    "\n",
    "# 设置 x 和 y 轴标签的颜色\n",
    "for i, tick in enumerate(ax.get_xticklabels()):\n",
    "    title_color = '#FF9282' if i == 7 else '#8099FF' if i < 7 else '#7CC8C5'\n",
    "    tick.set_color(title_color)\n",
    "    \n",
    "for i, tick in enumerate(ax.get_yticklabels()):\n",
    "    title_color = '#FF9282' if i == 7 else '#8099FF' if i < 7 else '#7CC8C5'\n",
    "    tick.set_color(title_color)\n",
    "plt.savefig(f\"D:\\\\Research\\\\Project\\\\PROJECTS\\\\COVID-19\\\\污水\\\\version_2\\\\超前滞后相关二段结果.pdf\", dpi=450, bbox_inches='tight')\n",
    "plt.show()"
   ]
  },
  {
   "cell_type": "code",
   "execution_count": null,
   "id": "80dd71db",
   "metadata": {
    "ExecuteTime": {
     "end_time": "2024-06-04T13:53:24.611676Z",
     "start_time": "2024-06-04T13:53:20.089726Z"
    }
   },
   "outputs": [],
   "source": [
    "plt.rc('font', family='Times New Roman', weight='bold')\n",
    "plt.rcParams.update({'font.size': 50})\n",
    "\n",
    "plt.figure(figsize=(30, 30), dpi=300)\n",
    "ax = sns.heatmap(corr_sta_matrix, cmap='RdPu', cbar_kws={\"shrink\": 0.5}, square=True, linewidths=0.5, fmt=\".2f\", vmin=0, vmax=1,mask=mask)\n",
    "\n",
    "# 标记p小于0.05的值为'*'\n",
    "for i in range(corr_sta_matrix.shape[0]):\n",
    "    for j in range(corr_sta_matrix.shape[1]):\n",
    "        if corr_sta_matrix.values[i, j] < 0.05 and mask[i, j]:\n",
    "            ax.annotate('*', xy=(i + 0.5, j + 0.5), color='black', ha='center', va='center')\n",
    "# 设置 x 和 y 轴标签的颜色\n",
    "for i, tick in enumerate(ax.get_xticklabels()):\n",
    "    title_color = '#FF9282' if i == 7 else '#8099FF' if i < 7 else '#7CC8C5'\n",
    "    tick.set_color(title_color)\n",
    "    \n",
    "for i, tick in enumerate(ax.get_yticklabels()):\n",
    "    title_color = '#FF9282' if i == 7 else '#8099FF' if i < 7 else '#7CC8C5'\n",
    "    tick.set_color(title_color)\n",
    "# 在图下方添加文本注释\n",
    "plt.text(0, -0.43, \"* : p < 0.05\", ha='center', va='center', transform=ax.transAxes, fontsize=50)\n",
    "\n",
    "plt.savefig('D:\\\\Research\\\\Project\\\\PROJECTS\\\\COVID-19\\\\污水\\\\version_2\\\\超前滞后相关二段统计学结果.pdf', dpi=300, bbox_inches='tight')\n",
    "plt.show()"
   ]
  },
  {
   "cell_type": "code",
   "execution_count": null,
   "id": "2145c6fb",
   "metadata": {
    "ExecuteTime": {
     "end_time": "2024-06-04T13:53:29.993345Z",
     "start_time": "2024-06-04T13:53:24.611676Z"
    }
   },
   "outputs": [],
   "source": [
    "plt.rcParams.update({'font.size': 50})\n",
    "plt.figure(figsize=(30, 30), dpi=300)\n",
    "ax = sns.heatmap(lag_matrix, cmap=\"coolwarm\",  annot=True, cbar_kws={\"shrink\": 0.5}, square=True, linewidths=0.5, fmt=\".0f\", vmin = -6, vmax =6)\n",
    "\n",
    "# 设置 x 和 y 轴标签的颜色\n",
    "for i, tick in enumerate(ax.get_xticklabels()):\n",
    "    title_color = '#FF9282' if i == 7 else '#8099FF' if i < 7 else '#7CC8C5'\n",
    "    tick.set_color(title_color)\n",
    "    \n",
    "for i, tick in enumerate(ax.get_yticklabels()):\n",
    "    title_color = '#FF9282' if i == 7 else '#8099FF' if i < 7 else '#7CC8C5'\n",
    "    tick.set_color(title_color)\n",
    "plt.savefig(f\"D:\\\\Research\\\\Project\\\\PROJECTS\\\\COVID-19\\\\污水\\\\version_2\\\\超前滞后阶数二段结果.pdf\", dpi=450, bbox_inches='tight')    \n",
    "plt.show()"
   ]
  },
  {
   "cell_type": "code",
   "execution_count": null,
   "id": "b80bb7fe",
   "metadata": {
    "ExecuteTime": {
     "end_time": "2024-06-04T13:53:32.696615Z",
     "start_time": "2024-06-04T13:53:29.994659Z"
    }
   },
   "outputs": [],
   "source": [
    "plt.rc('font', family='Times New Roman', weight='bold')\n",
    "plt.rcParams.update({'font.size': 16})\n",
    "# 创建4x6的子图网格\n",
    "fig, axes = plt.subplots(4, 6, figsize=(20, 15))\n",
    "\n",
    "# 扁平化axes数组，方便迭代\n",
    "axes = axes.flatten()\n",
    "Area_df = pd.DataFrame(columns= ['S>0', 'S<0', 'S=0'])\n",
    "# 绘制每一行数据的概率分布图\n",
    "for i, ax in enumerate(axes):\n",
    "    if i < len(lag_matrix):\n",
    "        if i == 7:\n",
    "            title_color = '#FF9282'\n",
    "        elif i < 7:\n",
    "            title_color = '#8099FF'\n",
    "        else:\n",
    "            title_color = '#7CC8C5'\n",
    "        title_font = {'fontsize':20, 'fontweight': 'bold'} \n",
    "        ax.axvline(x=0, color='black', linestyle='--',alpha = 0.6)\n",
    "        \n",
    "        data = lag_matrix.iloc[i]\n",
    "      \n",
    "        data = data.drop(data.index[i])\n",
    "        \n",
    "        sns.kdeplot(data, ax=ax, fill=True, color=title_color,linewidth = 2)\n",
    "        ax.set_xlim(-3,3)\n",
    "        ax.set_ylim(0,2)\n",
    "        ax.set_title(lag_matrix.index[i], fontdict=title_font)\n",
    "        ax.set_xlabel('')\n",
    "        ax.set_ylabel('')\n",
    "        # 计算 KDE\n",
    "        # 计算 KDE\n",
    "        kde = gaussian_kde(data)\n",
    "        \n",
    "        # 定义积分函数\n",
    "        def kde_function(x):\n",
    "            return kde(x)\n",
    "        \n",
    "        # 计算大于0的面积\n",
    "        area_greater_than_0, _ = quad(kde_function, 0, np.inf)\n",
    "        \n",
    "        # 计算小于0的面积\n",
    "        area_less_than_0, _ = quad(kde_function, -np.inf, 0)\n",
    "        \n",
    "        # 计算等于0的面积（实际上是一个点，面积为0）\n",
    "        area_equal_to_0 = kde(0) * 0  # 面积为0\n",
    "        \n",
    "        # 将结果保存到 DataFrame 中\n",
    "        Area_df = Area_df.append({\n",
    "            'Names': lag_matrix.index[i],\n",
    "            'S>0': area_greater_than_0,\n",
    "            'S<0': area_less_than_0,\n",
    "            'S=0': area_equal_to_0\n",
    "        }, ignore_index=True)\n",
    "    else:\n",
    "        # 隐藏多余的子图\n",
    "        ax.axis('off')\n",
    "\n",
    "plt.tight_layout()\n",
    "plt.savefig(f\"D:\\\\Research\\\\Project\\\\PROJECTS\\\\COVID-19\\\\污水\\\\res补\\\\2段超前滞后相关分布图.pdf\", dpi=450, bbox_inches='tight')\n",
    "Area_df.to_excel(\"D:\\\\Research\\\\Project\\\\PROJECTS\\\\COVID-19\\\\污水\\\\res补\\\\2段超前滞后面积.xlsx\")\n",
    "# 显示图形\n",
    "plt.show()"
   ]
  },
  {
   "cell_type": "code",
   "execution_count": null,
   "id": "af8933ef",
   "metadata": {
    "ExecuteTime": {
     "end_time": "2024-09-05T02:53:16.525223Z",
     "start_time": "2024-09-05T02:51:22.016200Z"
    }
   },
   "outputs": [],
   "source": [
    "corrs = [] #max_r\n",
    "ns = []  #max_p\n",
    "ps = []#max_n\n",
    "#plt.rc('font', family='Times New Roman')\n",
    "#plt.rcParams.update({'font.size': 35})\n",
    "#plt.rcParams.update({'font.weight': 'bold'}) \n",
    "\n",
    "fig, axes = plt.subplots(23, 23, figsize=(90, 90), dpi=300)  # 创建包含23行23列子图的图形\n",
    "\n",
    "for i, col1 in enumerate(var3_std_df.columns):\n",
    "    for j, col2 in enumerate(var3_std_df.columns):\n",
    "        x1 = var3_std_df[col1]\n",
    "        x2 = var3_std_df[col2]  \n",
    "        r = leadlagcor(x1, x2, 3)[0]  #r\n",
    "        p = leadlagcor(x1, x2, 3)[1]  #p\n",
    "        pmax = leadlagcor(x1, x2, 3)[4] #max_n\n",
    "        corr = leadlagcor(x1, x2, 3)[3] #max_r\n",
    "        n = leadlagcor(x1, x2, 3)[2]  #max_p\n",
    "        \n",
    "        corrs.append(corr)\n",
    "        ns.append(n)\n",
    "        ps.append(pmax)\n",
    "        \n",
    "        x = range(-3, 3 + 1, 1)\n",
    "        \n",
    "        ax = axes[i, j]\n",
    "        ax.plot(x, r, '#7CC8C5', linewidth=9, linestyle='dotted')\n",
    "        ax.set_ylim(-1.05,1.05)\n",
    "        ax.set_xlim(-4, 4)\n",
    "        ax.axhline(0, color='k')\n",
    "        bx = ax.bar(x, np.squeeze(r), color='#FF9282', width=0.95)\n",
    "        ax.set_ylabel(col1, fontsize=20, fontweight = 'bold')\n",
    "        ax.set_title(col2, fontsize=20, fontweight = 'bold',pad=20)\n",
    "        for idx, (bar, height) in enumerate(zip(bx, r)):\n",
    "            if height >= 0:\n",
    "                bar.set(color='#FF9282', width=0.95)\n",
    "            else:\n",
    "                bar.set(color='#8099FF', width=0.93)\n",
    "                \n",
    "            if p[idx] < 0.05:\n",
    "                ax.annotate('*', xy=(x[idx], height-0.02), \n",
    "                          ha='center', va='bottom', color='black',fontsize=20)\n",
    "            \n",
    "        #plt.setp(ax.get_xticklabels(), visible=False)\n",
    "        #plt.setp(ax.get_yticklabels(), visible=False)\n",
    "        #ax.set_xticks([])\n",
    "        #ax.set_yticks([])\n",
    "plt.tight_layout()  # 调整子图之间的间距\n",
    "plt.savefig('D:\\\\Research\\\\Project\\\\PROJECTS\\\\COVID-19\\\\污水\\\\manuscript_new\\\\manuscript\\\\Supplementary Material\\\\Fig S9.pdf', dpi=300)\n",
    "plt.show()\n",
    "\n",
    "corr_matrix = np.array(corrs).reshape(23, 23)\n",
    "corr_matrix = pd.DataFrame(corr_matrix, index=var3_std_df.columns, columns=var3_std_df.columns)\n",
    "\n",
    "corr_sta_matrix = np.array(ps).reshape(23, 23)\n",
    "corr_sta_matrix = pd.DataFrame(corr_sta_matrix, index=var3_std_df.columns, columns=var3_std_df.columns)\n",
    "\n",
    "lag_matrix = np.array(ns).reshape(23, 23)\n",
    "lag_matrix = pd.DataFrame(lag_matrix, index=var3_std_df.columns, columns=var3_std_df.columns)\n",
    "\n",
    "#corr_matrix.to_excel('D:\\\\Research\\\\Project\\\\PROJECTS\\\\COVID-19\\\\污水\\\\result\\\\upgraded\\\\3段超前滞后结果.xlsx')\n",
    "#corr_sta_matrix.to_excel('D:\\\\Research\\\\Project\\\\PROJECTS\\\\COVID-19\\\\污水\\\\result\\\\upgraded\\\\3段超前滞后阶数统计学结果.xlsx')\n",
    "#lag_matrix.to_excel('D:\\\\Research\\\\Project\\\\PROJECTS\\\\COVID-19\\\\污水\\\\result\\\\upgraded\\\\3段超前滞后阶数.xlsx')            "
   ]
  },
  {
   "cell_type": "code",
   "execution_count": null,
   "id": "425b833c",
   "metadata": {
    "ExecuteTime": {
     "end_time": "2024-06-05T04:51:15.451621Z",
     "start_time": "2024-06-05T04:51:12.983497Z"
    }
   },
   "outputs": [],
   "source": [
    "plt.rc('font', family='Times New Roman', weight='bold')\n",
    "plt.rcParams.update({'font.size': 20})\n",
    "\n",
    "plt.figure(figsize=(30, 30), dpi=300)\n",
    "ax = sns.heatmap(corr_matrix, cmap='RdBu',  annot=True,cbar_kws={\"shrink\": 0.5}, square=True, linewidths=0.5, fmt=\".2f\", vmin = -1, vmax =1)#,mask = mask)\n",
    "\n",
    "# 设置 x 和 y 轴标签的颜色\n",
    "for i, tick in enumerate(ax.get_xticklabels()):\n",
    "    title_color = '#FF9282' if i == 7 else '#8099FF' if i < 7 else '#7CC8C5'\n",
    "    tick.set_color(title_color)\n",
    "    \n",
    "for i, tick in enumerate(ax.get_yticklabels()):\n",
    "    title_color = '#FF9282' if i == 7 else '#8099FF' if i < 7 else '#7CC8C5'\n",
    "    tick.set_color(title_color)\n",
    "#plt.savefig(f\"D:\\\\Research\\\\Project\\\\PROJECTS\\\\COVID-19\\\\污水\\\\version_2\\\\超前滞后相关三段结果.pdf\", dpi=450, bbox_inches='tight')\n",
    "plt.show()"
   ]
  },
  {
   "cell_type": "code",
   "execution_count": null,
   "id": "f6697bed",
   "metadata": {
    "ExecuteTime": {
     "end_time": "2024-06-04T13:55:13.186854Z",
     "start_time": "2024-06-04T13:55:08.860714Z"
    }
   },
   "outputs": [],
   "source": [
    "plt.rc('font', family='Times New Roman', weight='bold')\n",
    "plt.rcParams.update({'font.size': 50})\n",
    "\n",
    "plt.figure(figsize=(30, 30), dpi=300)\n",
    "ax = sns.heatmap(corr_sta_matrix, cmap='RdPu', cbar_kws={\"shrink\": 0.5}, square=True, linewidths=0.5, fmt=\".2f\", vmin=0, vmax=1,mask=mask)\n",
    "\n",
    "# 标记p小于0.05的值为'*'\n",
    "for i in range(corr_sta_matrix.shape[0]):\n",
    "    for j in range(corr_sta_matrix.shape[1]):\n",
    "        if corr_sta_matrix.values[i, j] < 0.05 and mask[i, j]:\n",
    "            ax.annotate('*', xy=(i + 0.5, j + 0.5), color='black', ha='center', va='center')\n",
    "# 设置 x 和 y 轴标签的颜色\n",
    "for i, tick in enumerate(ax.get_xticklabels()):\n",
    "    title_color = '#FF9282' if i == 7 else '#8099FF' if i < 7 else '#7CC8C5'\n",
    "    tick.set_color(title_color)\n",
    "    \n",
    "for i, tick in enumerate(ax.get_yticklabels()):\n",
    "    title_color = '#FF9282' if i == 7 else '#8099FF' if i < 7 else '#7CC8C5'\n",
    "    tick.set_color(title_color)\n",
    "# 在图下方添加文本注释\n",
    "plt.text(0, -0.43, \"* : p < 0.05\", ha='center', va='center', transform=ax.transAxes, fontsize=50)\n",
    "\n",
    "plt.savefig('D:\\\\Research\\\\Project\\\\PROJECTS\\\\COVID-19\\\\污水\\\\version_2\\\\超前滞后相关三段统计学结果.pdf', dpi=300, bbox_inches='tight')\n",
    "plt.show()"
   ]
  },
  {
   "cell_type": "code",
   "execution_count": null,
   "id": "a6504523",
   "metadata": {
    "ExecuteTime": {
     "end_time": "2024-06-04T13:55:18.639574Z",
     "start_time": "2024-06-04T13:55:13.186854Z"
    }
   },
   "outputs": [],
   "source": [
    "plt.rcParams.update({'font.size': 50})\n",
    "plt.figure(figsize=(30, 30), dpi=300)\n",
    "ax = sns.heatmap(lag_matrix, cmap=\"coolwarm\",  annot=True, cbar_kws={\"shrink\": 0.5}, square=True, linewidths=0.5, fmt=\".0f\", vmin = -6, vmax =6)\n",
    "\n",
    "# 设置 x 和 y 轴标签的颜色\n",
    "for i, tick in enumerate(ax.get_xticklabels()):\n",
    "    title_color = '#FF9282' if i == 7 else '#8099FF' if i < 7 else '#7CC8C5'\n",
    "    tick.set_color(title_color)\n",
    "    \n",
    "for i, tick in enumerate(ax.get_yticklabels()):\n",
    "    title_color = '#FF9282' if i == 7 else '#8099FF' if i < 7 else '#7CC8C5'\n",
    "    tick.set_color(title_color)\n",
    "plt.savefig(f\"D:\\\\Research\\\\Project\\\\PROJECTS\\\\COVID-19\\\\污水\\\\version_2\\\\超前滞后阶数三段结果.pdf\", dpi=450, bbox_inches='tight')    \n",
    "plt.show()"
   ]
  },
  {
   "cell_type": "code",
   "execution_count": null,
   "id": "fea99172",
   "metadata": {
    "ExecuteTime": {
     "end_time": "2024-06-04T13:55:21.609031Z",
     "start_time": "2024-06-04T13:55:18.641317Z"
    }
   },
   "outputs": [],
   "source": [
    "plt.rc('font', family='Times New Roman', weight='bold')\n",
    "plt.rcParams.update({'font.size': 16})\n",
    "# 创建4x6的子图网格\n",
    "fig, axes = plt.subplots(4, 6, figsize=(20, 15))\n",
    "\n",
    "# 扁平化axes数组，方便迭代\n",
    "axes = axes.flatten()\n",
    "Area_df = pd.DataFrame(columns= ['S>0', 'S<0', 'S=0'])\n",
    "# 绘制每一行数据的概率分布图\n",
    "for i, ax in enumerate(axes):\n",
    "    if i < len(lag_matrix):\n",
    "        if i == 7:\n",
    "            title_color = '#FF9282'\n",
    "        elif i < 7:\n",
    "            title_color = '#8099FF'\n",
    "        else:\n",
    "            title_color = '#7CC8C5'\n",
    "        title_font = {'fontsize':20, 'fontweight': 'bold'} \n",
    "        ax.axvline(x=0, color='black', linestyle='--',alpha = 0.6)\n",
    "        \n",
    "        data = lag_matrix.iloc[i]\n",
    "      \n",
    "        data = data.drop(data.index[i])\n",
    "        \n",
    "        sns.kdeplot(data, ax=ax, fill=True, color=title_color,linewidth = 2)\n",
    "        ax.set_xlim(-3,3)\n",
    "        ax.set_ylim(0,2)\n",
    "        ax.set_title(lag_matrix.index[i], fontdict=title_font)\n",
    "        ax.set_xlabel('')\n",
    "        ax.set_ylabel('')\n",
    "        # 计算 KDE\n",
    "        # 计算 KDE\n",
    "        kde = gaussian_kde(data)\n",
    "        \n",
    "        # 定义积分函数\n",
    "        def kde_function(x):\n",
    "            return kde(x)\n",
    "        \n",
    "        # 计算大于0的面积\n",
    "        area_greater_than_0, _ = quad(kde_function, 0, np.inf)\n",
    "        \n",
    "        # 计算小于0的面积\n",
    "        area_less_than_0, _ = quad(kde_function, -np.inf, 0)\n",
    "        \n",
    "        # 计算等于0的面积（实际上是一个点，面积为0）\n",
    "        area_equal_to_0 = kde(0) * 0  # 面积为0\n",
    "        \n",
    "        # 将结果保存到 DataFrame 中\n",
    "        Area_df = Area_df.append({\n",
    "            'Names': lag_matrix.index[i],\n",
    "            'S>0': area_greater_than_0,\n",
    "            'S<0': area_less_than_0,\n",
    "            'S=0': area_equal_to_0\n",
    "        }, ignore_index=True)\n",
    "    else:\n",
    "        # 隐藏多余的子图\n",
    "        ax.axis('off')\n",
    "\n",
    "plt.tight_layout()\n",
    "plt.savefig(f\"D:\\\\Research\\\\Project\\\\PROJECTS\\\\COVID-19\\\\污水\\\\res补\\\\3段超前滞后相关分布图.pdf\", dpi=450, bbox_inches='tight')\n",
    "Area_df.to_excel(\"D:\\\\Research\\\\Project\\\\PROJECTS\\\\COVID-19\\\\污水\\\\res补\\\\3段超前滞后面积.xlsx\")\n",
    "# 显示图形\n",
    "plt.show()"
   ]
  },
  {
   "cell_type": "markdown",
   "id": "8693fa28",
   "metadata": {},
   "source": [
    "##  8.4 Morisita Horn Similarity Index"
   ]
  },
  {
   "cell_type": "code",
   "execution_count": null,
   "id": "2550dcf4",
   "metadata": {
    "ExecuteTime": {
     "end_time": "2024-06-05T05:48:35.380418Z",
     "start_time": "2024-06-05T05:48:31.980132Z"
    },
    "scrolled": true
   },
   "outputs": [],
   "source": [
    "indexs = []\n",
    "for i in var1_std_df.columns:\n",
    "    for j in var1_std_df.columns:\n",
    "        x1 = var1_std_df[i]\n",
    "        x2 = var1_std_df[j]\n",
    "        index = Morisita_Horn_Index(x1, x2)\n",
    "        indexs.append(index)\n",
    "matrix = np.array(indexs).reshape(23, 23)\n",
    "matrix = pd.DataFrame(matrix, index = var1_std_df.columns, columns = var1_std_df.columns)\n",
    "#matrix.to_excel('D:\\\\Research\\\\Project\\\\PROJECTS\\\\COVID-19\\\\污水\\\\result\\\\upgraded\\\\1段相似性结果.xlsx')\n",
    "\n",
    "import matplotlib.pyplot as plt\n",
    "import numpy as np\n",
    "\n",
    "\n",
    "plt.figure(figsize=(30, 30), dpi=300)\n",
    "plt.rc('font', family='Times New Roman')\n",
    "plt.rcParams.update({'font.weight': 'bold'})\n",
    "plt.rcParams.update({'font.size': 50})\n",
    "\n",
    "# 将矩阵展平以便绘制气泡图\n",
    "matrix_flat = matrix.values.flatten()\n",
    "\n",
    "# 创建气泡图\n",
    "scatter = plt.scatter(np.repeat(np.arange(23), 23), np.tile(np.arange(23), 23), s=matrix_flat*2500, c=matrix_flat, cmap='inferno')\n",
    "# 添加颜色条\n",
    "# 添加颜色条并设置位置\n",
    "cbar = plt.colorbar(scatter)\n",
    "#cbar.set_label('Color Bar Label', fontsize=40)\n",
    "cbar.ax.set_position([0.80, 0.11, 0.03, 0.5])  # 设置 colorbar 位置和大小\n",
    "\n",
    "# 设置 xticks 和 yticks\n",
    "plt.xticks(np.arange(23), matrix.columns, rotation=90)\n",
    "plt.yticks(np.arange(23), matrix.index)\n",
    "\n",
    "# 设置特定颜色\n",
    "for i, tick in enumerate(plt.gca().get_yticklabels()):\n",
    "    title_color = '#FF9282' if i == 7 else '#8099FF' if i < 7 else '#7CC8C5'\n",
    "    tick.set_color(title_color)\n",
    "for i, tick in enumerate(plt.gca().get_xticklabels()):\n",
    "    title_color = '#FF9282' if i == 7 else '#8099FF' if i < 7 else '#7CC8C5'\n",
    "    tick.set_color(title_color)\n",
    "# 设置 s 值对应大小的 legend\n",
    "sizes = [0.1, 0.4, 0.7, 1.0]  # 您可以根据实际情况调整这些值\n",
    "for size in sizes:\n",
    "    plt.scatter([], [], s=size*2500, label=str(size),color='k')\n",
    "    \n",
    "plt.legend(title='Size', loc='upper right', bbox_to_anchor=(1.21, 1))\n",
    "#plt.savefig('D:\\\\Research\\\\Project\\\\PROJECTS\\\\COVID-19\\\\污水\\\\version_2\\\\相似性结果一段.pdf', dpi=300, bbox_inches='tight')\n",
    "plt.show()"
   ]
  },
  {
   "cell_type": "code",
   "execution_count": null,
   "id": "951dedea",
   "metadata": {
    "ExecuteTime": {
     "end_time": "2024-06-05T05:48:53.891090Z",
     "start_time": "2024-06-05T05:48:51.363393Z"
    },
    "scrolled": true
   },
   "outputs": [],
   "source": [
    "plt.figure(figsize=(30, 30), dpi=300)\n",
    "plt.rc('font', family='Times New Roman')\n",
    "plt.rcParams.update({'font.weight': 'bold'})\n",
    "plt.rcParams.update({'font.size': 20})\n",
    "ax = sns.heatmap(matrix, annot=True, cmap='Blues', cbar_kws={\"shrink\": 0.5}, square=True, linewidths=0.5, fmt=\".3f\",)\n",
    "#plt.savefig(f\"D:\\\\Research\\\\Project\\\\PROJECTS\\\\COVID-19\\\\污水\\\\update_fig\\\\相似性结果.pdf\", dpi=450, bbox_inches='tight')\n",
    "plt.show()"
   ]
  },
  {
   "cell_type": "code",
   "execution_count": null,
   "id": "e373a3e1",
   "metadata": {
    "ExecuteTime": {
     "end_time": "2024-06-05T06:51:08.342928Z",
     "start_time": "2024-06-05T06:51:04.714826Z"
    }
   },
   "outputs": [],
   "source": [
    "indexs = []\n",
    "for i in var2_std_df.columns:\n",
    "    for j in var2_std_df.columns:\n",
    "        x1 = var2_std_df[i]\n",
    "        x2 = var2_std_df[j]\n",
    "        index = Morisita_Horn_Index(x1, x2)\n",
    "        indexs.append(index)\n",
    "matrix = np.array(indexs).reshape(23, 23)\n",
    "matrix = pd.DataFrame(matrix, index = var2_std_df.columns, columns = var2_std_df.columns)\n",
    "\n",
    "import matplotlib.pyplot as plt\n",
    "import numpy as np\n",
    "\n",
    "\n",
    "plt.figure(figsize=(30, 30), dpi=300)\n",
    "plt.rc('font', family='Times New Roman')\n",
    "plt.rcParams.update({'font.weight': 'bold'})\n",
    "plt.rcParams.update({'font.size': 50})\n",
    "\n",
    "# 将矩阵展平以便绘制气泡图\n",
    "matrix_flat = matrix.values.flatten()\n",
    "\n",
    "# 创建气泡图\n",
    "scatter = plt.scatter(np.repeat(np.arange(23), 23), np.tile(np.arange(23), 23), s=matrix_flat*2500, c=matrix_flat, cmap='inferno')\n",
    "# 添加颜色条\n",
    "# 添加颜色条并设置位置\n",
    "cbar = plt.colorbar(scatter)\n",
    "#cbar.set_label('Color Bar Label', fontsize=40)\n",
    "cbar.ax.set_position([0.80, 0.11, 0.03, 0.5])  # 设置 colorbar 位置和大小\n",
    "\n",
    "# 设置 xticks 和 yticks\n",
    "plt.xticks(np.arange(23), matrix.columns, rotation=90)\n",
    "plt.yticks(np.arange(23), matrix.index)\n",
    "\n",
    "# 设置特定颜色\n",
    "for i, tick in enumerate(plt.gca().get_yticklabels()):\n",
    "    title_color = '#FF9282' if i == 7 else '#8099FF' if i < 7 else '#7CC8C5'\n",
    "    tick.set_color(title_color)\n",
    "for i, tick in enumerate(plt.gca().get_xticklabels()):\n",
    "    title_color = '#FF9282' if i == 7 else '#8099FF' if i < 7 else '#7CC8C5'\n",
    "    tick.set_color(title_color)\n",
    "# 设置 s 值对应大小的 legend\n",
    "sizes = [0.1, 0.4, 0.7, 1.0]  # 您可以根据实际情况调整这些值\n",
    "for size in sizes:\n",
    "    plt.scatter([], [], s=size*2500, label=str(size),color='k')\n",
    "    \n",
    "plt.legend(title='Size', loc='upper right', bbox_to_anchor=(1.21, 1))\n",
    "#plt.savefig('D:\\\\Research\\\\Project\\\\PROJECTS\\\\COVID-19\\\\污水\\\\version_2\\\\相似性结果二段.pdf', dpi=300, bbox_inches='tight')\n",
    "plt.show()"
   ]
  },
  {
   "cell_type": "code",
   "execution_count": null,
   "id": "63cc86d3",
   "metadata": {
    "ExecuteTime": {
     "end_time": "2024-06-05T06:51:16.947422Z",
     "start_time": "2024-06-05T06:51:14.303769Z"
    },
    "scrolled": true
   },
   "outputs": [],
   "source": [
    "plt.figure(figsize=(30, 30), dpi=300)\n",
    "plt.rc('font', family='Times New Roman')\n",
    "plt.rcParams.update({'font.weight': 'bold'})\n",
    "plt.rcParams.update({'font.size': 20})\n",
    "ax = sns.heatmap(matrix, annot=True, cmap='Blues', cbar_kws={\"shrink\": 0.5}, square=True, linewidths=0.5, fmt=\".3f\",)\n",
    "#plt.savefig(f\"D:\\\\Research\\\\Project\\\\PROJECTS\\\\COVID-19\\\\污水\\\\update_fig\\\\相似性结果.pdf\", dpi=450, bbox_inches='tight')\n",
    "plt.show()"
   ]
  },
  {
   "cell_type": "code",
   "execution_count": null,
   "id": "bed2e7ab",
   "metadata": {
    "ExecuteTime": {
     "end_time": "2024-06-05T07:09:52.449494Z",
     "start_time": "2024-06-05T07:09:49.000083Z"
    }
   },
   "outputs": [],
   "source": [
    "indexs = []\n",
    "for i in var3_std_df.columns:\n",
    "    for j in var3_std_df.columns:\n",
    "        x1 = var3_std_df[i]\n",
    "        x2 = var3_std_df[j]\n",
    "        index = Morisita_Horn_Index(x1, x2)\n",
    "        indexs.append(index)\n",
    "matrix = np.array(indexs).reshape(23, 23)\n",
    "matrix = pd.DataFrame(matrix, index = var3_std_df.columns, columns = var3_std_df.columns)\n",
    "#matrix.to_excel('D:\\\\Research\\\\Project\\\\PROJECTS\\\\COVID-19\\\\污水\\\\result\\\\upgraded\\\\3段相似性结果.xlsx')\n",
    "\n",
    "import matplotlib.pyplot as plt\n",
    "import numpy as np\n",
    "\n",
    "\n",
    "plt.figure(figsize=(30, 30), dpi=300)\n",
    "plt.rc('font', family='Times New Roman')\n",
    "plt.rcParams.update({'font.weight': 'bold'})\n",
    "plt.rcParams.update({'font.size': 50})\n",
    "\n",
    "# 将矩阵展平以便绘制气泡图\n",
    "matrix_flat = matrix.values.flatten()\n",
    "\n",
    "# 创建气泡图\n",
    "scatter = plt.scatter(np.repeat(np.arange(23), 23), np.tile(np.arange(23), 23), s=matrix_flat*2500, c=matrix_flat, cmap='inferno')\n",
    "# 添加颜色条\n",
    "# 添加颜色条并设置位置\n",
    "cbar = plt.colorbar(scatter)\n",
    "#cbar.set_label('Color Bar Label', fontsize=40)\n",
    "cbar.ax.set_position([0.80, 0.11, 0.03, 0.5])  # 设置 colorbar 位置和大小\n",
    "\n",
    "# 设置 xticks 和 yticks\n",
    "plt.xticks(np.arange(23), matrix.columns, rotation=90)\n",
    "plt.yticks(np.arange(23), matrix.index)\n",
    "\n",
    "# 设置特定颜色\n",
    "for i, tick in enumerate(plt.gca().get_yticklabels()):\n",
    "    title_color = '#FF9282' if i == 7 else '#8099FF' if i < 7 else '#7CC8C5'\n",
    "    tick.set_color(title_color)\n",
    "for i, tick in enumerate(plt.gca().get_xticklabels()):\n",
    "    title_color = '#FF9282' if i == 7 else '#8099FF' if i < 7 else '#7CC8C5'\n",
    "    tick.set_color(title_color)\n",
    "# 设置 s 值对应大小的 legend\n",
    "sizes = [0.1, 0.4, 0.7, 1.0]  # 您可以根据实际情况调整这些值\n",
    "for size in sizes:\n",
    "    plt.scatter([], [], s=size*2500, label=str(size),color='k')\n",
    "    \n",
    "plt.legend(title='Size', loc='upper right', bbox_to_anchor=(1.21, 1))\n",
    "#plt.savefig('D:\\\\Research\\\\Project\\\\PROJECTS\\\\COVID-19\\\\污水\\\\version_2\\\\相似性结果三段.pdf', dpi=300, bbox_inches='tight')\n",
    "plt.show()"
   ]
  },
  {
   "cell_type": "code",
   "execution_count": null,
   "id": "7b137235",
   "metadata": {
    "ExecuteTime": {
     "end_time": "2024-06-05T07:10:17.022534Z",
     "start_time": "2024-06-05T07:10:14.342821Z"
    }
   },
   "outputs": [],
   "source": [
    "plt.figure(figsize=(30, 30), dpi=300)\n",
    "plt.rc('font', family='Times New Roman')\n",
    "plt.rcParams.update({'font.weight': 'bold'})\n",
    "plt.rcParams.update({'font.size': 22})\n",
    "ax = sns.heatmap(matrix, annot=True, cmap='Blues', cbar_kws={\"shrink\": 0.5}, square=True, linewidths=0.5, fmt=\".3f\",)\n",
    "#plt.savefig(f\"D:\\\\Research\\\\Project\\\\PROJECTS\\\\COVID-19\\\\污水\\\\update_fig\\\\相似性结果.pdf\", dpi=450, bbox_inches='tight')\n",
    "plt.show()"
   ]
  },
  {
   "cell_type": "code",
   "execution_count": null,
   "id": "1e88f09e",
   "metadata": {
    "ExecuteTime": {
     "end_time": "2024-06-05T07:20:13.296963Z",
     "start_time": "2024-06-05T07:20:13.180329Z"
    }
   },
   "outputs": [],
   "source": [
    "matrix.to_excel('D:\\\\Research\\\\Project\\\\PROJECTS\\\\COVID-19\\\\污水\\\\result\\\\upgraded\\\\3段相似性结果.xlsx')"
   ]
  },
  {
   "cell_type": "markdown",
   "id": "2fe74939",
   "metadata": {},
   "source": [
    "## 8.5 Time series clustering analysis"
   ]
  },
  {
   "cell_type": "markdown",
   "id": "5283a861",
   "metadata": {},
   "source": [
    "### T1"
   ]
  },
  {
   "cell_type": "code",
   "execution_count": null,
   "id": "d7c3ecdb",
   "metadata": {
    "ExecuteTime": {
     "end_time": "2024-09-03T13:55:48.701763Z",
     "start_time": "2024-09-03T13:55:48.676024Z"
    }
   },
   "outputs": [],
   "source": [
    "scaler = TimeSeriesScalerMeanVariance(mu=0., std=1.)  # 均值为0，标准差为1\n",
    "data_scaled = scaler.fit_transform(var1_std_df)\n",
    "clu_df = pd.DataFrame(data_scaled .reshape(8,23),index = var1_std_df.index, columns = var1_std_df.columns)\n",
    "\n",
    "distances = []\n",
    "for i in clu_df.columns:\n",
    "    for j in clu_df.columns:\n",
    "        distance, path = fastdtw(np.reshape(clu_df[i].values, (1, -1)), np.reshape(clu_df[j].values, (1, -1)), dist=euclidean)\n",
    "        distances.append(distance)\n",
    "        \n",
    "distances_matrix  = np.array(distances ).reshape(23, 23)\n",
    "dis_matrix = pd.DataFrame(distances_matrix , index = clu_df.columns, columns = clu_df.columns)\n",
    "\n",
    "dis_matrix.to_excel('D:\\\\Research\\\\Project\\\\PROJECTS\\\\COVID-19\\\\污水\\\\result\\\\upgraded\\\\1段DTW距离矩阵.xlsx')\n",
    "plt.figure(figsize=(30, 30), dpi=300)\n",
    "plt.rc('font', family='Times New Roman')\n",
    "plt.rcParams.update({'font.weight': 'bold'})\n",
    "plt.rcParams.update({'font.size': 50})\n",
    "\n",
    "plt.figure(figsize=(30,30),dpi= 450)\n",
    "ax = sns.heatmap(dis_matrix, vmin=0.0, vmax=16,cmap='RdBu', fmt=\".3f\", cbar_kws={\"shrink\": 0.5})\n",
    "\n",
    "\n",
    "# 设置特定颜色\n",
    "for i, tick in enumerate(plt.gca().get_yticklabels()):\n",
    "    title_color = '#FF9282' if i == 7 else '#8099FF' if i < 7 else '#7CC8C5'\n",
    "    tick.set_color(title_color)\n",
    "for i, tick in enumerate(plt.gca().get_xticklabels()):\n",
    "    title_color = '#FF9282' if i == 7 else '#8099FF' if i < 7 else '#7CC8C5'\n",
    "    tick.set_color(title_color)\n",
    "plt.savefig(f\"D:\\\\Research\\\\Project\\\\PROJECTS\\\\COVID-19\\\\污水\\\\version_2\\\\DTW距离矩阵一段.pdf\", dpi=600, bbox_inches='tight') \n",
    "\n",
    "plt.show()"
   ]
  },
  {
   "cell_type": "code",
   "execution_count": null,
   "id": "49a301c8",
   "metadata": {
    "ExecuteTime": {
     "end_time": "2024-06-05T12:21:33.607360Z",
     "start_time": "2024-06-05T12:21:30.984968Z"
    },
    "scrolled": true
   },
   "outputs": [],
   "source": [
    "plt.figure(figsize=(30, 30), dpi=300)\n",
    "plt.rc('font', family='Times New Roman')\n",
    "plt.rcParams.update({'font.weight': 'bold'})\n",
    "plt.rcParams.update({'font.size': 20})\n",
    "ax = sns.heatmap(dis_matrix, annot=True, cmap='Reds', vmin=0.0, vmax=16,  cbar_kws={\"shrink\": 0.5}, square=True, linewidths=0.5, fmt=\".3f\",)\n",
    "#plt.savefig(f\"D:\\\\Research\\\\Project\\\\PROJECTS\\\\COVID-19\\\\污水\\\\update_fig\\\\相似性结果.pdf\", dpi=450, bbox_inches='tight')\n",
    "plt.show()"
   ]
  },
  {
   "cell_type": "code",
   "execution_count": null,
   "id": "cc42a3ec",
   "metadata": {
    "ExecuteTime": {
     "end_time": "2024-06-04T13:58:50.953871Z",
     "start_time": "2024-06-04T13:58:40.605302Z"
    }
   },
   "outputs": [],
   "source": [
    "kmeans_models = []\n",
    "silhouette_scores = []\n",
    "davies_bouldin_scores = []\n",
    "adjusted_rand_scores = []\n",
    "cluster_dfs = []\n",
    "for i in np.arange(2,23,1):\n",
    "    # 聚类运算\n",
    "    kmeans = KMeans(n_clusters=i, random_state=0).fit(dis_matrix)\n",
    "    kmeans_models.append(kmeans)\n",
    "    labels_true = np.array([0, 0, 0, 0, 0, 0, 0, 2, 1, 1, 1, 1, 1, 1, 1, 1, 1, 1, 1, 1, 1, 1, 1]) \n",
    "    labels = kmeans.labels_\n",
    "    cluster_df = pd.DataFrame({'sample_id': clu_df.columns, 'cluster': kmeans.labels_})\n",
    "    silhouette_scores.append(silhouette_score(distances_matrix, labels))\n",
    "    davies_bouldin_scores.append(davies_bouldin_score(distances_matrix, labels))\n",
    "    # 假设true_labels为数据的真实标签\n",
    "    adjusted_rand_scores.append(adjusted_rand_score(labels_true, labels)) \n",
    "    cluster_dfs.append(cluster_df)\n",
    "\n",
    "all_clusters = pd.concat(cluster_dfs, keys=range(2,21))\n",
    "all_clusters.to_excel('D:\\\\Research\\\\Project\\\\PROJECTS\\\\COVID-19\\\\污水\\\\result\\\\upgraded\\\\1段K-mean结果.xlsx')\n",
    "kmean_index = pd.DataFrame({'silhouette_scores': silhouette_scores, 'davies_bouldin_scores': davies_bouldin_scores,\n",
    "                            'adjusted_rand_scores': adjusted_rand_scores},index = np.arange(2,23,1))\n",
    "kmean_index.to_excel('D:\\\\Research\\\\Project\\\\PROJECTS\\\\COVID-19\\\\污水\\\\result\\\\upgraded\\\\1段K-mean_评价指标.xlsx')"
   ]
  },
  {
   "cell_type": "code",
   "execution_count": null,
   "id": "6ae81f1c",
   "metadata": {
    "ExecuteTime": {
     "end_time": "2024-06-04T13:58:57.001623Z",
     "start_time": "2024-06-04T13:58:56.133243Z"
    }
   },
   "outputs": [],
   "source": [
    "# 画图观察评分指标随聚类数目的变化情况\n",
    "plt.figure(figsize=(18,18),dpi= 300) \n",
    "plt.plot(range(2, 23), silhouette_scores, '#F1AC71',linewidth=6,marker='o')\n",
    "plt.plot(range(2, 23), davies_bouldin_scores, '#784D9C',linewidth=6,marker='o') \n",
    "plt.plot(range(2, 23), adjusted_rand_scores, '#186CB6',linewidth=6,marker='o')\n",
    "plt.legend(['Silhouette Score', 'Davies-Bouldin Score','Adjusted Rand Score'])\n",
    "plt.xlabel('Number of clusters', fontdict={'fontsize':60, 'fontweight':'bold'})\n",
    "plt.ylabel('Values', fontdict={'fontsize':60, 'fontweight':'bold'})\n",
    "plt.xlim(2, 22)\n",
    "#plt.ylim(0, 1)\n",
    "ax = plt.gca() \n",
    "ax.xaxis.set_major_locator(plt.MaxNLocator(integer=True))\n",
    "plt.savefig(f\"D:\\\\Research\\\\Project\\\\PROJECTS\\\\COVID-19\\\\污水\\\\result\\\\upgraded\\\\1段k-mean_cluster_指标结果.pdf\", dpi=300) \n",
    "plt.show()"
   ]
  },
  {
   "cell_type": "code",
   "execution_count": null,
   "id": "969889af",
   "metadata": {
    "ExecuteTime": {
     "end_time": "2024-06-04T13:59:18.025878Z",
     "start_time": "2024-06-04T13:59:17.909428Z"
    }
   },
   "outputs": [],
   "source": [
    "from sklearn.cluster import AgglomerativeClustering\n",
    "\n",
    "clusters = []\n",
    "silhouette_scores2 = []\n",
    "davies_bouldin_scores2 = []\n",
    "adjusted_rand_scores2 = []\n",
    "cluster_dfs2 = []\n",
    "for i in np.arange(2,23,1):\n",
    "    # 聚类运算\n",
    "    cluster = AgglomerativeClustering(n_clusters= i , affinity='euclidean', linkage='ward').fit(dis_matrix)\n",
    "    clusters.append(cluster)\n",
    "    labels_true = np.array([0, 0, 0, 0, 0, 0, 0, 2, 1, 1, 1, 1, 1, 1, 1, 1, 1, 1, 1, 1, 1, 1, 1]) \n",
    "    labels = cluster.labels_\n",
    "    cluster_df = pd.DataFrame({'sample_id': clu_df.columns, 'cluster': cluster.labels_})\n",
    "    silhouette_scores2.append(silhouette_score(distances_matrix, labels))\n",
    "    davies_bouldin_scores2.append(davies_bouldin_score(distances_matrix, labels))\n",
    "    # 假设true_labels为数据的真实标签\n",
    "    adjusted_rand_scores2.append(adjusted_rand_score(labels_true, labels)) \n",
    "    cluster_dfs2.append(cluster_df)\n",
    "\n",
    "all_clusters2 = pd.concat(cluster_dfs2, keys=range(2,21))\n",
    "all_clusters2\n",
    "\n",
    "\n",
    "all_clusters2.to_csv('D:\\\\Research\\\\Project\\\\PROJECTS\\\\COVID-19\\\\污水\\\\result\\\\upgraded\\\\1段层次结果.csv')\n",
    "\n",
    "cc_index = pd.DataFrame({'silhouette_scores': silhouette_scores2, 'davies_bouldin_scores': davies_bouldin_scores2,\n",
    "                            'adjusted_rand_scores': adjusted_rand_scores2},index = np.arange(2,23,1))\n",
    "\n",
    "\n",
    "cc_index.to_csv('D:\\\\Research\\\\Project\\\\PROJECTS\\\\COVID-19\\\\污水\\\\result\\\\upgraded\\\\1段层次index.csv')"
   ]
  },
  {
   "cell_type": "code",
   "execution_count": null,
   "id": "514cf762",
   "metadata": {
    "ExecuteTime": {
     "end_time": "2024-06-04T13:59:34.795105Z",
     "start_time": "2024-06-04T13:59:33.941785Z"
    }
   },
   "outputs": [],
   "source": [
    "# 画图观察评分指标随聚类数目的变化情况\n",
    "plt.figure(figsize=(18,18),dpi= 300) \n",
    "plt.plot(range(2, 23), silhouette_scores2, '#F1AC71',linewidth=6,marker='o')\n",
    "plt.plot(range(2, 23), davies_bouldin_scores2, '#784D9C',linewidth=6,marker='o') \n",
    "plt.plot(range(2, 23), adjusted_rand_scores2, '#186CB6',linewidth=6,marker='o')\n",
    "plt.legend(['Silhouette Score', 'Davies-Bouldin Score','Adjusted Rand Score'])\n",
    "plt.xlabel('Number of clusters', fontdict={'fontsize':60, 'fontweight':'bold'})\n",
    "plt.ylabel('Values', fontdict={'fontsize':60, 'fontweight':'bold'})\n",
    "plt.xlim(2, 22)\n",
    "#plt.ylim(0, 1)\n",
    "ax = plt.gca() \n",
    "ax.xaxis.set_major_locator(plt.MaxNLocator(integer=True))\n",
    "plt.savefig(f\"D:\\\\Research\\\\Project\\\\PROJECTS\\\\COVID-19\\\\污水\\\\result\\\\upgraded\\\\1段层次_cluster_指标结果.pdf\", dpi=300) \n",
    "plt.show()"
   ]
  },
  {
   "cell_type": "code",
   "execution_count": null,
   "id": "2d30be37",
   "metadata": {
    "ExecuteTime": {
     "end_time": "2024-06-04T13:57:03.204665Z",
     "start_time": "2024-06-04T13:57:03.052402Z"
    }
   },
   "outputs": [],
   "source": [
    "from scipy.cluster.hierarchy import dendrogram, linkage\n",
    "import matplotlib.pyplot as plt\n",
    "\n",
    "# 设置新罗马字体\n",
    "plt.rcParams['font.family'] = 'Times New Roman'\n",
    "plt.rcParams.update({'font.size': 30})\n",
    "plt.rcParams.update({'font.weight': 'bold'})\n",
    "\n",
    "# 假设 dis_matrix 是一个 DataFrame，且索引包含了样本名称\n",
    "Z = linkage(dis_matrix, 'ward')\n",
    "\n",
    "# 绘制树状图\n",
    "plt.figure(figsize=(10, 5))\n",
    "dendrogram(Z, labels=dis_matrix.index)\n",
    "\n",
    "plt.ylabel('Distance', fontname='Times New Roman', fontweight='bold', fontsize=35)\n",
    "\n",
    "plt.ylim(0, 105)\n",
    "\n",
    "# 设置横坐标标签旋转角度为90度\n",
    "plt.xticks(rotation=90, fontname='Times New Roman', fontweight='bold', fontsize=25)\n",
    "\n",
    "# 匹配循环变量 i 和 dis_matrix.index，并设置不同颜色\n",
    "for i, tick in enumerate(plt.gca().get_xticklabels()):\n",
    "    title_color = '#FF9282' if i == 20 else '#8099FF' if (3 <= i <= 8) or (i == 21) else '#7CC8C5'\n",
    "    tick.set_color(title_color)\n",
    "    \n",
    "plt.savefig(f\"D:\\\\Research\\\\Project\\\\PROJECTS\\\\COVID-19\\\\污水\\\\version_2\\\\一段聚类.pdf\", dpi=600, bbox_inches='tight') \n",
    "plt.show()"
   ]
  },
  {
   "cell_type": "markdown",
   "id": "b48c194c",
   "metadata": {},
   "source": [
    "### T2"
   ]
  },
  {
   "cell_type": "code",
   "execution_count": null,
   "id": "d7fe2c0d",
   "metadata": {
    "ExecuteTime": {
     "end_time": "2024-06-05T12:30:53.368824Z",
     "start_time": "2024-06-05T12:30:46.526839Z"
    }
   },
   "outputs": [],
   "source": [
    "plt.rc('font', family='Times New Roman')\n",
    "plt.rcParams.update({'font.weight': 'bold'})\n",
    "plt.rcParams.update({'font.size': 50})\n",
    "\n",
    "scaler = TimeSeriesScalerMeanVariance(mu=0., std=1.)  # 均值为0，标准差为1\n",
    "data_scaled = scaler.fit_transform(var2_std_df)\n",
    "clu_df = pd.DataFrame(data_scaled .reshape(13,23),index = var2_std_df.index, columns = var2_std_df.columns)\n",
    "\n",
    "distances = []\n",
    "for i in clu_df.columns:\n",
    "    for j in clu_df.columns:\n",
    "        distance, path = fastdtw(np.reshape(clu_df[i].values, (1, -1)), np.reshape(clu_df[j].values, (1, -1)), dist=euclidean)\n",
    "        distances.append(distance)\n",
    "        \n",
    "distances_matrix  = np.array(distances ).reshape(23, 23)\n",
    "dis_matrix = pd.DataFrame(distances_matrix , index = clu_df.columns, columns = clu_df.columns)\n",
    "\n",
    "dis_matrix.to_excel('D:\\\\Research\\\\Project\\\\PROJECTS\\\\COVID-19\\\\污水\\\\result\\\\upgraded\\\\2段DTW距离矩阵.xlsx')\n",
    "\n",
    "plt.figure(figsize=(30,30),dpi= 450)\n",
    "ax = sns.heatmap(dis_matrix, vmin=0.0, vmax=16,cmap='RdBu', fmt=\".3f\", cbar_kws={\"shrink\": 0.5} )\n",
    "\n",
    "\n",
    "# 设置特定颜色\n",
    "for i, tick in enumerate(plt.gca().get_yticklabels()):\n",
    "    title_color = '#FF9282' if i == 7 else '#8099FF' if i < 7 else '#7CC8C5'\n",
    "    tick.set_color(title_color)\n",
    "for i, tick in enumerate(plt.gca().get_xticklabels()):\n",
    "    title_color = '#FF9282' if i == 7 else '#8099FF' if i < 7 else '#7CC8C5'\n",
    "    tick.set_color(title_color)\n",
    "#plt.savefig(f\"D:\\\\Research\\\\Project\\\\PROJECTS\\\\COVID-19\\\\污水\\\\version_2\\\\DTW距离矩阵二段.pdf\", dpi=600, bbox_inches='tight') \n",
    "#plt.savefig('D:\\\\Research\\\\Project\\\\PROJECTS\\\\COVID-19\\\\污水\\\\result\\\\plot_v2\\\\相似性结果2.pdf', dpi=300, bbox_inches='tight')\n",
    "plt.show()"
   ]
  },
  {
   "cell_type": "code",
   "execution_count": null,
   "id": "33e89da5",
   "metadata": {
    "ExecuteTime": {
     "end_time": "2024-06-05T12:31:02.650088Z",
     "start_time": "2024-06-05T12:30:59.866285Z"
    }
   },
   "outputs": [],
   "source": [
    "plt.figure(figsize=(30, 30), dpi=300)\n",
    "plt.rc('font', family='Times New Roman')\n",
    "plt.rcParams.update({'font.weight': 'bold'})\n",
    "plt.rcParams.update({'font.size': 20})\n",
    "ax = sns.heatmap(dis_matrix, annot=True, cmap='Reds', vmin=0.0, vmax=16,  cbar_kws={\"shrink\": 0.5}, square=True, linewidths=0.5, fmt=\".3f\",)\n",
    "#plt.savefig(f\"D:\\\\Research\\\\Project\\\\PROJECTS\\\\COVID-19\\\\污水\\\\update_fig\\\\相似性结果.pdf\", dpi=450, bbox_inches='tight')\n",
    "plt.show()"
   ]
  },
  {
   "cell_type": "code",
   "execution_count": null,
   "id": "33f3fa7c",
   "metadata": {
    "ExecuteTime": {
     "end_time": "2024-06-04T14:02:31.256156Z",
     "start_time": "2024-06-04T14:02:21.100985Z"
    }
   },
   "outputs": [],
   "source": [
    "kmeans_models = []\n",
    "silhouette_scores = []\n",
    "davies_bouldin_scores = []\n",
    "adjusted_rand_scores = []\n",
    "cluster_dfs = []\n",
    "for i in np.arange(2,23,1):\n",
    "    # 聚类运算\n",
    "    kmeans = KMeans(n_clusters=i, random_state=0).fit(dis_matrix)\n",
    "    kmeans_models.append(kmeans)\n",
    "    labels_true = np.array([0, 0, 0, 0, 0, 0, 0, 2, 1, 1, 1, 1, 1, 1, 1, 1, 1, 1, 1, 1, 1, 1, 1]) \n",
    "    labels = kmeans.labels_\n",
    "    cluster_df = pd.DataFrame({'sample_id': clu_df.columns, 'cluster': kmeans.labels_})\n",
    "    silhouette_scores.append(silhouette_score(distances_matrix, labels))\n",
    "    davies_bouldin_scores.append(davies_bouldin_score(distances_matrix, labels))\n",
    "    # 假设true_labels为数据的真实标签\n",
    "    adjusted_rand_scores.append(adjusted_rand_score(labels_true, labels)) \n",
    "    cluster_dfs.append(cluster_df)\n",
    "\n",
    "all_clusters = pd.concat(cluster_dfs, keys=range(2,21))\n",
    "all_clusters.to_excel('D:\\\\Research\\\\Project\\\\PROJECTS\\\\COVID-19\\\\污水\\\\result\\\\upgraded\\\\2段K-mean结果.xlsx')\n",
    "kmean_index = pd.DataFrame({'silhouette_scores': silhouette_scores, 'davies_bouldin_scores': davies_bouldin_scores,\n",
    "                            'adjusted_rand_scores': adjusted_rand_scores},index = np.arange(2,23,1))\n",
    "kmean_index.to_excel('D:\\\\Research\\\\Project\\\\PROJECTS\\\\COVID-19\\\\污水\\\\result\\\\upgraded\\\\2段K-mean_评价指标.xlsx')"
   ]
  },
  {
   "cell_type": "code",
   "execution_count": null,
   "id": "24d64449",
   "metadata": {
    "ExecuteTime": {
     "end_time": "2024-06-04T14:02:32.228075Z",
     "start_time": "2024-06-04T14:02:31.257232Z"
    }
   },
   "outputs": [],
   "source": [
    "# 画图观察评分指标随聚类数目的变化情况\n",
    "plt.figure(figsize=(18,18),dpi= 300) \n",
    "plt.plot(range(2, 23), silhouette_scores, '#F1AC71',linewidth=6,marker='o')\n",
    "plt.plot(range(2, 23), davies_bouldin_scores, '#784D9C',linewidth=6,marker='o') \n",
    "plt.plot(range(2, 23), adjusted_rand_scores, '#186CB6',linewidth=6,marker='o')\n",
    "plt.legend(['Silhouette Score', 'Davies-Bouldin Score','Adjusted Rand Score'])\n",
    "plt.xlabel('Number of clusters', fontdict={'fontsize':60, 'fontweight':'bold'})\n",
    "plt.ylabel('Values', fontdict={'fontsize':60, 'fontweight':'bold'})\n",
    "plt.xlim(2, 22)\n",
    "#plt.ylim(0, 1)\n",
    "ax = plt.gca() \n",
    "ax.xaxis.set_major_locator(plt.MaxNLocator(integer=True))\n",
    "plt.savefig(f\"D:\\\\Research\\\\Project\\\\PROJECTS\\\\COVID-19\\\\污水\\\\result\\\\upgraded\\\\2段k-mean_cluster_指标结果.pdf\", dpi=300) \n",
    "plt.show()"
   ]
  },
  {
   "cell_type": "code",
   "execution_count": null,
   "id": "d3f10ccc",
   "metadata": {
    "ExecuteTime": {
     "end_time": "2024-06-04T14:02:42.333616Z",
     "start_time": "2024-06-04T14:02:42.251343Z"
    }
   },
   "outputs": [],
   "source": [
    "from sklearn.cluster import AgglomerativeClustering\n",
    "\n",
    "clusters = []\n",
    "silhouette_scores2 = []\n",
    "davies_bouldin_scores2 = []\n",
    "adjusted_rand_scores2 = []\n",
    "cluster_dfs2 = []\n",
    "for i in np.arange(2,23,1):\n",
    "    # 聚类运算\n",
    "    cluster = AgglomerativeClustering(n_clusters= i , affinity='euclidean', linkage='ward').fit(dis_matrix)\n",
    "    clusters.append(cluster)\n",
    "    labels_true = np.array([0, 0, 0, 0, 0, 0, 0, 2, 1, 1, 1, 1, 1, 1, 1, 1, 1, 1, 1, 1, 1, 1, 1]) \n",
    "    labels = cluster.labels_\n",
    "    cluster_df = pd.DataFrame({'sample_id': clu_df.columns, 'cluster': cluster.labels_})\n",
    "    silhouette_scores2.append(silhouette_score(distances_matrix, labels))\n",
    "    davies_bouldin_scores2.append(davies_bouldin_score(distances_matrix, labels))\n",
    "    # 假设true_labels为数据的真实标签\n",
    "    adjusted_rand_scores2.append(adjusted_rand_score(labels_true, labels)) \n",
    "    cluster_dfs2.append(cluster_df)\n",
    "\n",
    "all_clusters2 = pd.concat(cluster_dfs2, keys=range(2,21))\n",
    "all_clusters2\n",
    "\n",
    "\n",
    "all_clusters2.to_csv('D:\\\\Research\\\\Project\\\\PROJECTS\\\\COVID-19\\\\污水\\\\result\\\\upgraded\\\\2段层次结果.csv')\n",
    "\n",
    "cc_index = pd.DataFrame({'silhouette_scores': silhouette_scores2, 'davies_bouldin_scores': davies_bouldin_scores2,\n",
    "                            'adjusted_rand_scores': adjusted_rand_scores2},index = np.arange(2,23,1))\n",
    "\n",
    "\n",
    "cc_index.to_csv('D:\\\\Research\\\\Project\\\\PROJECTS\\\\COVID-19\\\\污水\\\\result\\\\upgraded\\\\2段层次index.csv')"
   ]
  },
  {
   "cell_type": "code",
   "execution_count": null,
   "id": "f059b8eb",
   "metadata": {
    "ExecuteTime": {
     "end_time": "2024-06-04T14:02:56.861387Z",
     "start_time": "2024-06-04T14:02:55.909914Z"
    }
   },
   "outputs": [],
   "source": [
    "# 画图观察评分指标随聚类数目的变化情况\n",
    "plt.figure(figsize=(18,18),dpi= 300) \n",
    "plt.plot(range(2, 23), silhouette_scores2, '#F1AC71',linewidth=6,marker='o')\n",
    "plt.plot(range(2, 23), davies_bouldin_scores2, '#784D9C',linewidth=6,marker='o') \n",
    "plt.plot(range(2, 23), adjusted_rand_scores2, '#186CB6',linewidth=6,marker='o')\n",
    "plt.legend(['Silhouette Score', 'Davies-Bouldin Score','Adjusted Rand Score'])\n",
    "plt.xlabel('Number of clusters', fontdict={'fontsize':60, 'fontweight':'bold'})\n",
    "plt.ylabel('Values', fontdict={'fontsize':60, 'fontweight':'bold'})\n",
    "plt.xlim(2, 22)\n",
    "#plt.ylim(0, 1)\n",
    "ax = plt.gca() \n",
    "ax.xaxis.set_major_locator(plt.MaxNLocator(integer=True))\n",
    "plt.savefig(f\"D:\\\\Research\\\\Project\\\\PROJECTS\\\\COVID-19\\\\污水\\\\result\\\\upgraded\\\\2段层次_cluster_指标结果.pdf\", dpi=300) \n",
    "plt.show()"
   ]
  },
  {
   "cell_type": "code",
   "execution_count": null,
   "id": "86227804",
   "metadata": {
    "ExecuteTime": {
     "end_time": "2024-06-04T14:03:39.214615Z",
     "start_time": "2024-06-04T14:03:39.053729Z"
    }
   },
   "outputs": [],
   "source": [
    "from scipy.cluster.hierarchy import dendrogram, linkage\n",
    "import matplotlib.pyplot as plt\n",
    "\n",
    "# 设置新罗马字体\n",
    "plt.rcParams['font.family'] = 'Times New Roman'\n",
    "plt.rcParams.update({'font.size': 30})\n",
    "plt.rcParams.update({'font.weight': 'bold'})\n",
    "\n",
    "# 假设 dis_matrix 是一个 DataFrame，且索引包含了样本名称\n",
    "Z = linkage(dis_matrix, 'ward')\n",
    "\n",
    "# 绘制树状图\n",
    "plt.figure(figsize=(10, 5))\n",
    "dendrogram(Z, labels=dis_matrix.index)\n",
    "\n",
    "plt.ylabel('Distance', fontname='Times New Roman', fontweight='bold', fontsize=35)\n",
    "\n",
    "plt.ylim(0, 105)\n",
    "\n",
    "# 设置横坐标标签旋转角度为90度\n",
    "plt.xticks(rotation=90, fontname='Times New Roman', fontweight='bold', fontsize=25)\n",
    "\n",
    "# 匹配循环变量 i 和 dis_matrix.index，并设置不同颜色\n",
    "for i, tick in enumerate(plt.gca().get_xticklabels()):\n",
    "    title_color = '#FF9282' if i == 10 else '#8099FF' if (4 <= i <= 7) or (13 <= i <= 15) else '#7CC8C5'\n",
    "    tick.set_color(title_color)\n",
    "    \n",
    "plt.savefig(f\"D:\\\\Research\\\\Project\\\\PROJECTS\\\\COVID-19\\\\污水\\\\version_2\\\\二段聚类.pdf\", dpi=600, bbox_inches='tight') \n",
    "plt.show()"
   ]
  },
  {
   "cell_type": "markdown",
   "id": "7d4f2ede",
   "metadata": {},
   "source": [
    "### T3"
   ]
  },
  {
   "cell_type": "code",
   "execution_count": null,
   "id": "c51673c2",
   "metadata": {
    "ExecuteTime": {
     "end_time": "2024-06-05T12:32:21.200452Z",
     "start_time": "2024-06-05T12:32:14.254688Z"
    }
   },
   "outputs": [],
   "source": [
    "scaler = TimeSeriesScalerMeanVariance(mu=0., std=1.)  # 均值为0，标准差为1\n",
    "data_scaled = scaler.fit_transform(var3_std_df)\n",
    "clu_df = pd.DataFrame(data_scaled .reshape(13,23),index = var3_std_df.index, columns = var3_std_df.columns)\n",
    "plt.rc('font', family='Times New Roman')\n",
    "plt.rcParams.update({'font.weight': 'bold'})\n",
    "plt.rcParams.update({'font.size': 50})\n",
    "\n",
    "distances = []\n",
    "for i in clu_df.columns:\n",
    "    for j in clu_df.columns:\n",
    "        distance, path = fastdtw(np.reshape(clu_df[i].values, (1, -1)), np.reshape(clu_df[j].values, (1, -1)), dist=euclidean)\n",
    "        distances.append(distance)\n",
    "        \n",
    "distances_matrix  = np.array(distances ).reshape(23, 23)\n",
    "dis_matrix = pd.DataFrame(distances_matrix , index = clu_df.columns, columns = clu_df.columns)\n",
    "\n",
    "dis_matrix.to_excel('D:\\\\Research\\\\Project\\\\PROJECTS\\\\COVID-19\\\\污水\\\\result\\\\upgraded\\\\3段DTW距离矩阵.xlsx')\n",
    "\n",
    "\n",
    "plt.figure(figsize=(30,30),dpi= 450)\n",
    "ax = sns.heatmap(dis_matrix, vmin=0.0, vmax=16,cmap='RdBu', fmt=\".3f\", cbar_kws={\"shrink\": 0.5})\n",
    "\n",
    "\n",
    "# 设置特定颜色\n",
    "for i, tick in enumerate(plt.gca().get_yticklabels()):\n",
    "    title_color = '#FF9282' if i == 7 else '#8099FF' if i < 7 else '#7CC8C5'\n",
    "    tick.set_color(title_color)\n",
    "for i, tick in enumerate(plt.gca().get_xticklabels()):\n",
    "    title_color = '#FF9282' if i == 7 else '#8099FF' if i < 7 else '#7CC8C5'\n",
    "    tick.set_color(title_color)\n",
    "#plt.savefig(f\"D:\\\\Research\\\\Project\\\\PROJECTS\\\\COVID-19\\\\污水\\\\version_2\\\\DTW距离矩阵三段.pdf\", dpi=600, bbox_inches='tight') \n",
    "#plt.savefig('D:\\\\Research\\\\Project\\\\PROJECTS\\\\COVID-19\\\\污水\\\\result\\\\plot_v2\\\\相似性结果2.pdf', dpi=300, bbox_inches='tight')\n",
    "plt.show()"
   ]
  },
  {
   "cell_type": "code",
   "execution_count": null,
   "id": "39021d08",
   "metadata": {
    "ExecuteTime": {
     "end_time": "2024-06-05T12:32:32.556194Z",
     "start_time": "2024-06-05T12:32:29.998754Z"
    }
   },
   "outputs": [],
   "source": [
    "plt.figure(figsize=(30, 30), dpi=300)\n",
    "plt.rc('font', family='Times New Roman')\n",
    "plt.rcParams.update({'font.weight': 'bold'})\n",
    "plt.rcParams.update({'font.size': 20})\n",
    "ax = sns.heatmap(dis_matrix, annot=True, cmap='Reds', vmin=0.0, vmax=16,  cbar_kws={\"shrink\": 0.5}, square=True, linewidths=0.5, fmt=\".3f\",)\n",
    "#plt.savefig(f\"D:\\\\Research\\\\Project\\\\PROJECTS\\\\COVID-19\\\\污水\\\\update_fig\\\\相似性结果.pdf\", dpi=450, bbox_inches='tight')\n",
    "plt.show()"
   ]
  },
  {
   "cell_type": "code",
   "execution_count": null,
   "id": "8eb546ea",
   "metadata": {
    "ExecuteTime": {
     "end_time": "2024-06-04T14:05:00.447571Z",
     "start_time": "2024-06-04T14:04:50.205295Z"
    }
   },
   "outputs": [],
   "source": [
    "kmeans_models = []\n",
    "silhouette_scores = []\n",
    "davies_bouldin_scores = []\n",
    "adjusted_rand_scores = []\n",
    "cluster_dfs = []\n",
    "for i in np.arange(2,23,1):\n",
    "    # 聚类运算\n",
    "    kmeans = KMeans(n_clusters=i, random_state=0).fit(dis_matrix)\n",
    "    kmeans_models.append(kmeans)\n",
    "    labels_true = np.array([0, 0, 0, 0, 0, 0, 0, 2, 1, 1, 1, 1, 1, 1, 1, 1, 1, 1, 1, 1, 1, 1, 1]) \n",
    "    labels = kmeans.labels_\n",
    "    cluster_df = pd.DataFrame({'sample_id': clu_df.columns, 'cluster': kmeans.labels_})\n",
    "    silhouette_scores.append(silhouette_score(distances_matrix, labels))\n",
    "    davies_bouldin_scores.append(davies_bouldin_score(distances_matrix, labels))\n",
    "    # 假设true_labels为数据的真实标签\n",
    "    adjusted_rand_scores.append(adjusted_rand_score(labels_true, labels)) \n",
    "    cluster_dfs.append(cluster_df)\n",
    "\n",
    "all_clusters = pd.concat(cluster_dfs, keys=range(2,21))\n",
    "all_clusters.to_excel('D:\\\\Research\\\\Project\\\\PROJECTS\\\\COVID-19\\\\污水\\\\result\\\\upgraded\\\\3段K-mean结果.xlsx')\n",
    "kmean_index = pd.DataFrame({'silhouette_scores': silhouette_scores, 'davies_bouldin_scores': davies_bouldin_scores,\n",
    "                            'adjusted_rand_scores': adjusted_rand_scores},index = np.arange(2,23,1))\n",
    "kmean_index.to_excel('D:\\\\Research\\\\Project\\\\PROJECTS\\\\COVID-19\\\\污水\\\\result\\\\upgraded\\\\3段K-mean_评价指标.xlsx')"
   ]
  },
  {
   "cell_type": "code",
   "execution_count": null,
   "id": "eb7ab6e1",
   "metadata": {
    "ExecuteTime": {
     "end_time": "2024-06-04T14:05:01.618812Z",
     "start_time": "2024-06-04T14:05:00.653107Z"
    }
   },
   "outputs": [],
   "source": [
    "# 画图观察评分指标随聚类数目的变化情况\n",
    "plt.figure(figsize=(18,18),dpi= 300) \n",
    "plt.plot(range(2, 23), silhouette_scores, '#F1AC71',linewidth=6,marker='o')\n",
    "plt.plot(range(2, 23), davies_bouldin_scores, '#784D9C',linewidth=6,marker='o') \n",
    "plt.plot(range(2, 23), adjusted_rand_scores, '#186CB6',linewidth=6,marker='o')\n",
    "plt.legend(['Silhouette Score', 'Davies-Bouldin Score','Adjusted Rand Score'])\n",
    "plt.xlabel('Number of clusters', fontdict={'fontsize':60, 'fontweight':'bold'})\n",
    "plt.ylabel('Values', fontdict={'fontsize':60, 'fontweight':'bold'})\n",
    "plt.xlim(2, 22)\n",
    "#plt.ylim(0, 1)\n",
    "ax = plt.gca() \n",
    "ax.xaxis.set_major_locator(plt.MaxNLocator(integer=True))\n",
    "plt.savefig(f\"D:\\\\Research\\\\Project\\\\PROJECTS\\\\COVID-19\\\\污水\\\\result\\\\upgraded\\\\3段k-mean_cluster_指标结果.pdf\", dpi=300) \n",
    "plt.show()"
   ]
  },
  {
   "cell_type": "code",
   "execution_count": null,
   "id": "7d0fe511",
   "metadata": {
    "ExecuteTime": {
     "end_time": "2024-06-04T14:05:14.526934Z",
     "start_time": "2024-06-04T14:05:14.429992Z"
    }
   },
   "outputs": [],
   "source": [
    "from sklearn.cluster import AgglomerativeClustering\n",
    "\n",
    "clusters = []\n",
    "silhouette_scores2 = []\n",
    "davies_bouldin_scores2 = []\n",
    "adjusted_rand_scores2 = []\n",
    "cluster_dfs2 = []\n",
    "for i in np.arange(2,23,1):\n",
    "    # 聚类运算\n",
    "    cluster = AgglomerativeClustering(n_clusters= i , affinity='euclidean', linkage='ward').fit(dis_matrix)\n",
    "    clusters.append(cluster)\n",
    "    labels_true = np.array([0, 0, 0, 0, 0, 0, 0, 2, 1, 1, 1, 1, 1, 1, 1, 1, 1, 1, 1, 1, 1, 1, 1]) \n",
    "    labels = cluster.labels_\n",
    "    cluster_df = pd.DataFrame({'sample_id': clu_df.columns, 'cluster': cluster.labels_})\n",
    "    silhouette_scores2.append(silhouette_score(distances_matrix, labels))\n",
    "    davies_bouldin_scores2.append(davies_bouldin_score(distances_matrix, labels))\n",
    "    # 假设true_labels为数据的真实标签\n",
    "    adjusted_rand_scores2.append(adjusted_rand_score(labels_true, labels)) \n",
    "    cluster_dfs2.append(cluster_df)\n",
    "\n",
    "all_clusters2 = pd.concat(cluster_dfs2, keys=range(2,21))\n",
    "all_clusters2\n",
    "\n",
    "\n",
    "all_clusters2.to_csv('D:\\\\Research\\\\Project\\\\PROJECTS\\\\COVID-19\\\\污水\\\\result\\\\upgraded\\\\3段层次结果.csv')\n",
    "\n",
    "cc_index = pd.DataFrame({'silhouette_scores': silhouette_scores2, 'davies_bouldin_scores': davies_bouldin_scores2,\n",
    "                            'adjusted_rand_scores': adjusted_rand_scores2},index = np.arange(2,23,1))\n",
    "\n",
    "\n",
    "cc_index.to_csv('D:\\\\Research\\\\Project\\\\PROJECTS\\\\COVID-19\\\\污水\\\\result\\\\upgraded\\\\3段层次index.csv')"
   ]
  },
  {
   "cell_type": "code",
   "execution_count": null,
   "id": "85dc373b",
   "metadata": {
    "ExecuteTime": {
     "end_time": "2024-06-04T14:05:31.316983Z",
     "start_time": "2024-06-04T14:05:30.372502Z"
    }
   },
   "outputs": [],
   "source": [
    "# 画图观察评分指标随聚类数目的变化情况\n",
    "plt.figure(figsize=(18,18),dpi= 300) \n",
    "plt.plot(range(2, 23), silhouette_scores2, '#F1AC71',linewidth=6,marker='o')\n",
    "plt.plot(range(2, 23), davies_bouldin_scores2, '#784D9C',linewidth=6,marker='o') \n",
    "plt.plot(range(2, 23), adjusted_rand_scores2, '#186CB6',linewidth=6,marker='o')\n",
    "plt.legend(['Silhouette Score', 'Davies-Bouldin Score','Adjusted Rand Score'])\n",
    "plt.xlabel('Number of clusters', fontdict={'fontsize':60, 'fontweight':'bold'})\n",
    "plt.ylabel('Values', fontdict={'fontsize':60, 'fontweight':'bold'})\n",
    "plt.xlim(2, 22)\n",
    "#plt.ylim(0, 1)\n",
    "ax = plt.gca() \n",
    "ax.xaxis.set_major_locator(plt.MaxNLocator(integer=True))\n",
    "plt.savefig(f\"D:\\\\Research\\\\Project\\\\PROJECTS\\\\COVID-19\\\\污水\\\\result\\\\upgraded\\\\3段层次_cluster_指标结果.pdf\", dpi=300) \n",
    "plt.show()"
   ]
  },
  {
   "cell_type": "code",
   "execution_count": null,
   "id": "2fe02108",
   "metadata": {
    "ExecuteTime": {
     "end_time": "2024-06-04T14:05:55.965625Z",
     "start_time": "2024-06-04T14:05:55.700687Z"
    }
   },
   "outputs": [],
   "source": [
    "from scipy.cluster.hierarchy import dendrogram, linkage\n",
    "import matplotlib.pyplot as plt\n",
    "\n",
    "# 设置新罗马字体\n",
    "plt.rcParams['font.family'] = 'Times New Roman'\n",
    "plt.rcParams.update({'font.size': 30})\n",
    "plt.rcParams.update({'font.weight': 'bold'})\n",
    "\n",
    "# 假设 dis_matrix 是一个 DataFrame，且索引包含了样本名称\n",
    "Z = linkage(dis_matrix, 'ward')\n",
    "\n",
    "# 绘制树状图\n",
    "plt.figure(figsize=(10, 5))\n",
    "dendrogram(Z, labels=dis_matrix.index)\n",
    "\n",
    "plt.ylabel('Distance', fontname='Times New Roman', fontweight='bold', fontsize=35)\n",
    "\n",
    "plt.ylim(0, 105)\n",
    "\n",
    "# 设置横坐标标签旋转角度为90度\n",
    "plt.xticks(rotation=90, fontname='Times New Roman', fontweight='bold', fontsize=25)\n",
    "\n",
    "# 匹配循环变量 i 和 dis_matrix.index，并设置不同颜色\n",
    "for i, tick in enumerate(plt.gca().get_xticklabels()):\n",
    "    title_color = '#FF9282' if i == 5 else '#8099FF' if (6 <= i <= 10) or (0 <= i <= 1) else '#7CC8C5'\n",
    "    tick.set_color(title_color)\n",
    "    \n",
    "plt.savefig(f\"D:\\\\Research\\\\Project\\\\PROJECTS\\\\COVID-19\\\\污水\\\\version_2\\\\三段聚类.pdf\", dpi=600, bbox_inches='tight') \n",
    "plt.show()"
   ]
  },
  {
   "cell_type": "code",
   "execution_count": null,
   "id": "fb26c17e",
   "metadata": {},
   "outputs": [],
   "source": []
  }
 ],
 "metadata": {
  "kernelspec": {
   "display_name": "Python 3 (ipykernel)",
   "language": "python",
   "name": "python3"
  },
  "language_info": {
   "codemirror_mode": {
    "name": "ipython",
    "version": 3
   },
   "file_extension": ".py",
   "mimetype": "text/x-python",
   "name": "python",
   "nbconvert_exporter": "python",
   "pygments_lexer": "ipython3",
   "version": "3.9.13"
  },
  "nbTranslate": {
   "displayLangs": [
    "*"
   ],
   "hotkey": "alt-t",
   "langInMainMenu": true,
   "sourceLang": "en",
   "targetLang": "fr",
   "useGoogleTranslate": true
  },
  "toc": {
   "base_numbering": 1,
   "nav_menu": {},
   "number_sections": false,
   "sideBar": true,
   "skip_h1_title": false,
   "title_cell": "Table of Contents",
   "title_sidebar": "Contents",
   "toc_cell": false,
   "toc_position": {
    "height": "805.926px",
    "left": "28px",
    "top": "123.229px",
    "width": "355.844px"
   },
   "toc_section_display": true,
   "toc_window_display": true
  },
  "widgets": {
   "application/vnd.jupyter.widget-state+json": {
    "state": {},
    "version_major": 2,
    "version_minor": 0
   }
  }
 },
 "nbformat": 4,
 "nbformat_minor": 5
}
